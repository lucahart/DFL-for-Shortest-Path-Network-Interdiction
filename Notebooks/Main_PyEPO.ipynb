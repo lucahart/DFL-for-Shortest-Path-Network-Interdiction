{
 "cells": [
  {
   "cell_type": "markdown",
   "id": "974bc76f",
   "metadata": {},
   "source": [
    "# Main PyEPO\n",
    "This notebook uses our classes in close connection with the PyEPO library and follows their tutorial in creating a shortest path optnet."
   ]
  },
  {
   "cell_type": "code",
   "execution_count": 1,
   "id": "8a088b11",
   "metadata": {},
   "outputs": [],
   "source": [
    "# Add the parent directory to the path\n",
    "import sys, os\n",
    "sys.path.insert(0, os.path.abspath(\"..\"))"
   ]
  },
  {
   "cell_type": "markdown",
   "id": "90a7a3bf",
   "metadata": {},
   "source": [
    "## Optimizers\n",
    "We start with defining an optimization problem with an optimizer."
   ]
  },
  {
   "cell_type": "code",
   "execution_count": 2,
   "id": "8bf05ae1",
   "metadata": {},
   "outputs": [],
   "source": [
    "# Import numpy and ShortestPathGrb class\n",
    "import numpy as np\n",
    "from src.models.ShortestPathGrb import shortestPathGrb"
   ]
  },
  {
   "cell_type": "code",
   "execution_count": 3,
   "id": "5f8e903e",
   "metadata": {},
   "outputs": [
    {
     "name": "stdout",
     "output_type": "stream",
     "text": [
      "Restricted license - for non-production use only - expires 2026-11-23\n"
     ]
    }
   ],
   "source": [
    "# Define grid size\n",
    "m, n = 5, 5\n",
    "\n",
    "# Create a grid instance\n",
    "opt_model = shortestPathGrb()"
   ]
  },
  {
   "cell_type": "code",
   "execution_count": 4,
   "id": "f39a9603",
   "metadata": {},
   "outputs": [],
   "source": [
    "# Define random cost\n",
    "cost = np.random.rand(opt_model.num_cost)\n",
    "\n",
    "# Set the cost for the grid (Optionally specify the source and target nodes)\n",
    "opt_model.setObj(cost)"
   ]
  },
  {
   "cell_type": "code",
   "execution_count": 5,
   "id": "4aaffd6a",
   "metadata": {},
   "outputs": [
    {
     "name": "stdout",
     "output_type": "stream",
     "text": [
      "(0, 5)\n",
      "(5, 6)\n",
      "(6, 7)\n",
      "(7, 12)\n",
      "(12, 13)\n",
      "(13, 18)\n",
      "(18, 19)\n",
      "(19, 24)\n"
     ]
    }
   ],
   "source": [
    "# Solve shortest path problem\n",
    "path, obj = opt_model.solve()\n",
    "for i, e in enumerate(opt_model.arcs):\n",
    "    if path[i] > 1e-3:\n",
    "        print(e)\n",
    "# print(ShortestPathGrid.one_hot_to_arcs(opt_model, path))\n",
    "\n",
    "# # Visualize the grid with the shortest path highlighted\n",
    "# opt_model.visualize(color_edges=path)"
   ]
  },
  {
   "cell_type": "markdown",
   "id": "4582f485",
   "metadata": {},
   "source": [
    "## Datasets\n",
    "We use PyEPO to generate data for the shortest path problem and use its ``optDataset`` class for data storage and loading."
   ]
  },
  {
   "cell_type": "code",
   "execution_count": 6,
   "id": "5ca43a6f",
   "metadata": {},
   "outputs": [],
   "source": [
    "import pyepo\n",
    "\n",
    "# Set parameters for data generation\n",
    "num_train_data = 1000 # number of training data\n",
    "num_test_data = 1000 # number of test data\n",
    "num_feat = 5 # size of feature\n",
    "deg = 4 # polynomial degree\n",
    "e = 0.5 # noise width\n",
    "\n",
    "# Generate data for shortest path problem\n",
    "feats, costs = pyepo.data.shortestpath.genData(\n",
    "    num_train_data+num_test_data, \n",
    "    num_feat, \n",
    "    (m,n), \n",
    "    deg=deg, \n",
    "    noise_width=e, \n",
    "    seed=135\n",
    ")"
   ]
  },
  {
   "cell_type": "code",
   "execution_count": 7,
   "id": "7c20ee53",
   "metadata": {},
   "outputs": [],
   "source": [
    "# split train test data\n",
    "from sklearn.model_selection import train_test_split\n",
    "x_train, x_test, c_train, c_test = train_test_split(\n",
    "    feats, \n",
    "    costs, \n",
    "    test_size=num_test_data, \n",
    "    random_state=42\n",
    ")"
   ]
  },
  {
   "cell_type": "code",
   "execution_count": 8,
   "id": "af4d5241",
   "metadata": {},
   "outputs": [
    {
     "name": "stdout",
     "output_type": "stream",
     "text": [
      "Optimizing for optDataset...\n"
     ]
    },
    {
     "name": "stderr",
     "output_type": "stream",
     "text": [
      "100%|██████████| 1000/1000 [00:00<00:00, 3853.58it/s]"
     ]
    },
    {
     "name": "stdout",
     "output_type": "stream",
     "text": [
      "Optimizing for optDataset...\n"
     ]
    },
    {
     "name": "stderr",
     "output_type": "stream",
     "text": [
      "\n",
      "100%|██████████| 1000/1000 [00:00<00:00, 3922.17it/s]\n"
     ]
    }
   ],
   "source": [
    "# Create datasets for training and testing\n",
    "dataset_train = pyepo.data.dataset.optDataset(opt_model, x_train, c_train)\n",
    "dataset_test = pyepo.data.dataset.optDataset(opt_model, x_test, c_test)"
   ]
  },
  {
   "cell_type": "code",
   "execution_count": 9,
   "id": "af892ca1",
   "metadata": {},
   "outputs": [],
   "source": [
    "# Wrap dataset into PyTorch DataLoader\n",
    "from torch.utils.data import DataLoader\n",
    "batch_size = 32\n",
    "loader_train = DataLoader(dataset_train, batch_size=batch_size, shuffle=True)\n",
    "loader_test = DataLoader(dataset_test, batch_size=batch_size, shuffle=False)"
   ]
  },
  {
   "cell_type": "markdown",
   "id": "52a938d3",
   "metadata": {},
   "source": [
    "## Training and Testing\n",
    "We will now create a predictive model. Then we train and test it with the artificial data created in the previous section."
   ]
  },
  {
   "cell_type": "code",
   "execution_count": 18,
   "id": "561fbcbc",
   "metadata": {},
   "outputs": [],
   "source": [
    "from src.models.LinearRegression import LinearRegression\n",
    "\n",
    "# Instantiate linear regression model\n",
    "model = LinearRegression(num_feat=num_feat, num_edges=opt_model.num_cost)"
   ]
  },
  {
   "cell_type": "code",
   "execution_count": 19,
   "id": "422d0fa6",
   "metadata": {},
   "outputs": [],
   "source": [
    "# Create an instance of the PyEPO liniear regret function\n",
    "regret = pyepo.metric.regret(model, opt_model, loader_test)"
   ]
  },
  {
   "cell_type": "code",
   "execution_count": 20,
   "id": "2dbf4f7f",
   "metadata": {},
   "outputs": [],
   "source": [
    "from matplotlib import pyplot as plt\n",
    "\n",
    "def visLearningCurve(loss_log, loss_log_regret):\n",
    "    # create figure and subplots\n",
    "    fig, (ax1, ax2) = plt.subplots(1, 2, figsize=(16,4))\n",
    "\n",
    "    # draw plot for training loss\n",
    "    ax1.plot(loss_log, color=\"c\", lw=2)\n",
    "    ax1.tick_params(axis=\"both\", which=\"major\", labelsize=12)\n",
    "    ax1.set_xlabel(\"Iters\", fontsize=16)\n",
    "    ax1.set_ylabel(\"Loss\", fontsize=16)\n",
    "    ax1.set_title(\"Learning Curve on Training Set\", fontsize=16)\n",
    "\n",
    "    # draw plot for regret on test\n",
    "    ax2.plot(loss_log_regret, color=\"royalblue\", ls=\"--\", alpha=0.7, lw=2)\n",
    "    ax2.set_xticks(range(0, len(loss_log_regret), 2))\n",
    "    ax2.tick_params(axis=\"both\", which=\"major\", labelsize=12)\n",
    "    ax2.set_ylim(0, 0.5)\n",
    "    ax2.set_xlabel(\"Epochs\", fontsize=16)\n",
    "    ax2.set_ylabel(\"Regret\", fontsize=16)\n",
    "    ax2.set_title(\"Learning Curve on Test Set\", fontsize=16)\n",
    "\n",
    "    plt.show()"
   ]
  },
  {
   "cell_type": "code",
   "execution_count": 21,
   "id": "c834cda7",
   "metadata": {},
   "outputs": [
    {
     "name": "stdout",
     "output_type": "stream",
     "text": [
      "Num of cores: 2\n"
     ]
    }
   ],
   "source": [
    "# Init SPO+ loss\n",
    "spop = pyepo.func.SPOPlus(opt_model, processes=2)\n",
    "\n",
    "# Init optimizer\n",
    "from torch import optim\n",
    "optimizer = optim.Adam(model.parameters(), lr=1e-2)"
   ]
  },
  {
   "cell_type": "code",
   "execution_count": null,
   "id": "9a0e4744",
   "metadata": {},
   "outputs": [
    {
     "name": "stdout",
     "output_type": "stream",
     "text": [
      "Epoch 00 | Train Loss: 3.9182 | Train Regret: 0.0941 | Test Loss: 1.7384 | Test Regret: 0.0884\n",
      "Epoch 01 | Train Loss: 1.5197 | Train Regret: 0.0762 | Test Loss: 1.4130 | Test Regret: 0.0746\n",
      "Epoch 02 | Train Loss: 1.3740 | Train Regret: 0.0769 | Test Loss: 1.3657 | Test Regret: 0.0744\n",
      "Epoch 03 | Train Loss: 1.3414 | Train Regret: 0.0742 | Test Loss: 1.3409 | Test Regret: 0.0751\n",
      "Epoch 04 | Train Loss: 1.3177 | Train Regret: 0.0764 | Test Loss: 1.3351 | Test Regret: 0.0767\n",
      "Epoch 05 | Train Loss: 1.3206 | Train Regret: 0.0752 | Test Loss: 1.3591 | Test Regret: 0.0763\n",
      "Epoch 06 | Train Loss: 1.3297 | Train Regret: 0.0733 | Test Loss: 1.3487 | Test Regret: 0.0745\n",
      "Epoch 07 | Train Loss: 1.3214 | Train Regret: 0.0783 | Test Loss: 1.3791 | Test Regret: 0.0808\n",
      "Epoch 08 | Train Loss: 1.3447 | Train Regret: 0.0764 | Test Loss: 1.3408 | Test Regret: 0.0740\n",
      "Epoch 09 | Train Loss: 1.2979 | Train Regret: 0.0773 | Test Loss: 1.3552 | Test Regret: 0.0760\n"
     ]
    }
   ],
   "source": [
    "from src.models.trainer import Trainer\n",
    "\n",
    "# Create a trainer instance\n",
    "trainer = Trainer(pred_model=model, opt_model=opt_model, optimizer=optimizer, loss_fn=spop)\n",
    "\n",
    "train_loss_log, train_regret_log, test_loss_log, test_regret_log = trainer.fit(loader_train, loader_test)"
   ]
  },
  {
   "cell_type": "code",
   "execution_count": 26,
   "id": "9ab43f4d",
   "metadata": {},
   "outputs": [
    {
     "data": {
      "image/png": "[encoded data removed]",
      "text/plain": [
       "<Figure size 640x480 with 1 Axes>"
      ]
     },
     "metadata": {},
     "output_type": "display_data"
    }
   ],
   "source": [
    "import matplotlib.pyplot as plt\n",
    "\n",
    "# Plot learning curve and optionally test loss\n",
    "plt.plot(train_regret_log, label='Training Regret')\n",
    "if test_regret_log is not None:\n",
    "    plt.scatter(np.arange(len(test_regret_log))*trainer.n_epochs, test_regret_log, marker='x', color='red', label='Testing Regrets')\n",
    "plt.xlabel('Epoch')\n",
    "plt.ylabel('Loss')\n",
    "plt.title('Learning Curve')\n",
    "plt.legend()\n",
    "plt.show()"
   ]
  },
  {
   "cell_type": "code",
   "execution_count": null,
   "id": "4fdb45e9",
   "metadata": {},
   "outputs": [],
   "source": []
  }
 ],
 "metadata": {
  "kernelspec": {
   "display_name": ".venv",
   "language": "python",
   "name": "python3"
  },
  "language_info": {
   "codemirror_mode": {
    "name": "ipython",
    "version": 3
   },
   "file_extension": ".py",
   "mimetype": "text/x-python",
   "name": "python",
   "nbconvert_exporter": "python",
   "pygments_lexer": "ipython3",
   "version": "3.12.3"
  }
 },
 "nbformat": 4,
 "nbformat_minor": 5
}
