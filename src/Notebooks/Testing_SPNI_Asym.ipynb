{
 "cells": [
  {
   "cell_type": "code",
   "execution_count": null,
   "id": "0",
   "metadata": {},
   "outputs": [],
   "source": []
  },
  {
   "cell_type": "code",
   "execution_count": null,
   "id": "1",
   "metadata": {},
   "outputs": [],
   "source": [
    "# Add the parent directory to the path\n",
    "import sys, os\n",
    "sys.path.insert(0, os.path.abspath(\"../..\"))"
   ]
  },
  {
   "cell_type": "code",
   "execution_count": null,
   "id": "2",
   "metadata": {},
   "outputs": [],
   "source": [
    "import numpy as np\n",
    "import matplotlib.pyplot as plt\n",
    "\n",
    "from src.solvers.spnia_asym import AsymmetricSPNI\n",
    "from src.models.ShortestPathGrb import shortestPathGrb\n",
    "from src.models.ShortestPathGrid import ShortestPathGrid\n",
    "from src.solvers.BendersDecomposition import BendersDecomposition"
   ]
  },
  {
   "cell_type": "code",
   "execution_count": null,
   "id": "3",
   "metadata": {},
   "outputs": [],
   "source": [
    "# Plot the graphs next to each other\n",
    "fig, ax = plt.subplots(1, 2, figsize=(6, 4.5))\n",
    "\n",
    "# Define the graph with the true costs\n",
    "c_true = np.array([1,1,1,1,1,1,1])\n",
    "grid_true = ShortestPathGrid(m=3, n=2, cost=c_true)\n",
    "grid_true.visualize(ax=ax[0], title=\"True Costs\")\n",
    "\n",
    "# Define the graph with the estimated costs\n",
    "c_est = np.array([1,1,1,1,1,1,1])\n",
    "grid_est = ShortestPathGrid(m=3, n=2, cost=c_est)\n",
    "grid_est.visualize(ax=ax[1], title=\"Estimated Costs\")"
   ]
  },
  {
   "cell_type": "code",
   "execution_count": null,
   "id": "4",
   "metadata": {},
   "outputs": [],
   "source": [
    "# Define the true and estimated delays, and the interdiction budget\n",
    "d_true = np.array([2,2,2,2,2,2,2])\n",
    "d_est = np.array([2,2,2,2,2,2,2])\n",
    "budget = 1"
   ]
  },
  {
   "cell_type": "code",
   "execution_count": null,
   "id": "5",
   "metadata": {},
   "outputs": [],
   "source": []
  }
 ],
 "metadata": {
  "kernelspec": {
   "display_name": ".venv",
   "language": "python",
   "name": "python3"
  },
  "language_info": {
   "codemirror_mode": {
    "name": "ipython",
    "version": 3
   },
   "file_extension": ".py",
   "mimetype": "text/x-python",
   "name": "python",
   "nbconvert_exporter": "python",
   "pygments_lexer": "ipython3",
   "version": "3.12.3"
  }
 },
 "nbformat": 4,
 "nbformat_minor": 5
}
