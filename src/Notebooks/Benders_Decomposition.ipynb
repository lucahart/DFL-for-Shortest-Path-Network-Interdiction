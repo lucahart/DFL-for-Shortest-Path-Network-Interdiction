{
 "cells": [
  {
   "cell_type": "markdown",
   "id": "0",
   "metadata": {},
   "source": [
    "# Bender's Decomposition Testing"
   ]
  },
  {
   "cell_type": "code",
   "execution_count": null,
   "id": "1",
   "metadata": {},
   "outputs": [],
   "source": [
    "# Add the parent directory to the path\n",
    "import sys, os\n",
    "sys.path.insert(0, os.path.abspath(\"../..\"))\n",
    "\n",
    "# Import numpy and ShortestPathGrid class\n",
    "import numpy as np\n",
    "from src.models.ShortestPathGrid import ShortestPathGrid"
   ]
  },
  {
   "cell_type": "code",
   "execution_count": null,
   "id": "2",
   "metadata": {},
   "outputs": [],
   "source": [
    "# Generate data\n",
    "m, n = (5,5)  # grid size\n",
    "np.random.seed(47)  # for reproducibility\n",
    "# Create a random cost array for the grid\n",
    "cost = np.arange((m-1)*n + m*(n-1))\n",
    "np.random.shuffle(cost)\n",
    "# Initialize the ShortestPathGrid with the cost array\n",
    "grid = ShortestPathGrid(m, n, cost=cost)\n",
    "# Visualize the grid\n",
    "grid.visualize()"
   ]
  },
  {
   "cell_type": "code",
   "execution_count": null,
   "id": "3",
   "metadata": {},
   "outputs": [],
   "source": [
    "from src.models.ShortestPathGrb import shortestPathGrb\n",
    "\n",
    "opt_model = shortestPathGrb(grid)\n",
    "sol, obj = opt_model.solve(versatile=True)\n",
    "# grid.visualize(colored_edges=sol)"
   ]
  },
  {
   "cell_type": "code",
   "execution_count": null,
   "id": "4",
   "metadata": {},
   "outputs": [],
   "source": [
    "# Define the interdiction cost\n",
    "interdiction_cost = np.random.rand(grid.num_cost)*20\n",
    "\n",
    "# Define Budget\n",
    "k = 5\n",
    "\n",
    "# Print the interdiction cost\n",
    "interdiction_cost"
   ]
  },
  {
   "cell_type": "code",
   "execution_count": null,
   "id": "5",
   "metadata": {},
   "outputs": [],
   "source": [
    "from src.solvers.BendersDecomposition import BendersDecomposition\n",
    "\n",
    "# Initialize the BendersDecomposition with the opt_model\n",
    "benders = BendersDecomposition(opt_model, k, interdiction_cost, max_cnt=20, eps=1e-3)"
   ]
  },
  {
   "cell_type": "code",
   "execution_count": null,
   "id": "6",
   "metadata": {},
   "outputs": [],
   "source": [
    "interdictions_x, shortest_path_y, z_min = benders.solve()"
   ]
  },
  {
   "cell_type": "code",
   "execution_count": null,
   "id": "7",
   "metadata": {},
   "outputs": [],
   "source": [
    "print(f\"Original shortest path cost: \\t{obj:.2f}\\nNew shortest path cost: \\t{z_min:.2f}\")\n",
    "\n",
    "grid.visualize(colored_edges=shortest_path_y, dashed_edges=interdictions_x)"
   ]
  },
  {
   "cell_type": "code",
   "execution_count": null,
   "id": "8",
   "metadata": {},
   "outputs": [],
   "source": []
  }
 ],
 "metadata": {
  "kernelspec": {
   "display_name": ".venv",
   "language": "python",
   "name": "python3"
  },
  "language_info": {
   "codemirror_mode": {
    "name": "ipython",
    "version": 3
   },
   "file_extension": ".py",
   "mimetype": "text/x-python",
   "name": "python",
   "nbconvert_exporter": "python",
   "pygments_lexer": "ipython3",
   "version": "3.12.3"
  }
 },
 "nbformat": 4,
 "nbformat_minor": 5
}
