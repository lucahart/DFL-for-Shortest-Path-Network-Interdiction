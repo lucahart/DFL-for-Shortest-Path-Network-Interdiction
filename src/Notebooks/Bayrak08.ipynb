{
 "cells": [
  {
   "cell_type": "markdown",
   "id": "0",
   "metadata": {},
   "source": [
    "# Single Instances from Bayrak & Bailey (2008)\n",
    "In this Notebook we look into single instances of grid-networks similar to Bayrak & Bailey (2008). Note the difference, that we only work with grids that have horizontal and vertical edges, no diagonal edges. We compare the true costs (objectives) and visualizations of the shortest paths when the interdictor uses bender's decomposition (assuming full evader knowledge) and a bi-level program for solving an asymmetric shortest path network interdiction formulation (assuming faulty evader knowledge)."
   ]
  },
  {
   "cell_type": "code",
   "execution_count": null,
   "id": "1",
   "metadata": {},
   "outputs": [],
   "source": [
    "# Add the parent directory to the path\n",
    "import sys, os\n",
    "sys.path.insert(0, os.path.abspath(\"../..\"))"
   ]
  },
  {
   "cell_type": "markdown",
   "id": "2",
   "metadata": {},
   "source": [
    "## Problem Setup\n",
    "We first import all relevant software libraries and define the shortest path network interdiction problem."
   ]
  },
  {
   "cell_type": "code",
   "execution_count": null,
   "id": "3",
   "metadata": {},
   "outputs": [],
   "source": [
    "import numpy as np\n",
    "import matplotlib.pyplot as plt\n",
    "\n",
    "from src.solvers.spnia_asym import AsymmetricSPNI\n",
    "from src.models.ShortestPathGrb import shortestPathGrb\n",
    "from src.models.ShortestPathGrid import ShortestPathGrid\n",
    "from src.solvers.BendersDecomposition import BendersDecomposition"
   ]
  },
  {
   "cell_type": "code",
   "execution_count": null,
   "id": "4",
   "metadata": {},
   "outputs": [],
   "source": [
    "# Hyperparameters\n",
    "c_min: float = 1.0\n",
    "c_max: float = 10.0\n",
    "d_min: float = 1.0\n",
    "d_max: float = 10.0\n",
    "Q = 0.6\n",
    "B = 5\n",
    "network = (6, 8)\n",
    "np.random.seed(31)"
   ]
  },
  {
   "cell_type": "code",
   "execution_count": null,
   "id": "5",
   "metadata": {},
   "outputs": [],
   "source": [
    "# Generate true and estimated costs and delays with the formula from Bayrak & Bailey (2008)\n",
    "true_costs = (np.random.rand(network[0] * (network[1] - 1) + (network[0] - 1) * network[1]) * (c_max - c_min) + c_min).round(0)\n",
    "true_delays = (np.random.rand(network[0] * (network[1] - 1) + (network[0] - 1) * network[1]) * (d_max - d_min) + d_min).round(0)\n",
    "est_costs = (np.random.rand(network[0] * (network[1] - 1) + (network[0] - 1) * network[1]) * 2 * (1 - Q) * true_costs + Q * true_costs).round(0)\n",
    "est_delays = (np.random.rand(network[0] * (network[1] - 1) + (network[0] - 1) * network[1]) * 2 * (1 - Q) * true_delays + Q * true_delays).round(0)\n",
    "\n",
    "# Create the true and estimated graphs\n",
    "true_graph = ShortestPathGrid(network[0], network[1], true_costs)\n",
    "est_graph = ShortestPathGrid(network[0], network[1], est_costs)\n",
    "\n",
    "# Visualize the the graphs with true and estimated costs\n",
    "fig, ax = plt.subplots(1,2,figsize=(16, 6))\n",
    "true_graph.visualize(ax=ax[0], title=\"True Graph\")\n",
    "est_graph.visualize(ax=ax[1], title=\"Estimated Graph\")\n",
    "fig.tight_layout()"
   ]
  },
  {
   "cell_type": "markdown",
   "id": "6",
   "metadata": {},
   "source": [
    "## Naive Interdictor\n",
    "First, the interdictor assumes that the evader has the same knowledge of the network parameters. The optimization problem is solved with Bender's Algorithm."
   ]
  },
  {
   "cell_type": "code",
   "execution_count": null,
   "id": "7",
   "metadata": {},
   "outputs": [],
   "source": [
    "# Solutions without information asymmetry\n",
    "interdictor_I = BendersDecomposition(shortestPathGrb(true_graph), k=B, interdiction_cost=true_delays, max_cnt=20, eps=.1)\n",
    "x_true_I, y_true_I, obj_true_I = interdictor_I.solve()\n",
    "\n",
    "# Estimated shortest path after symmetric interdiction\n",
    "est_shortest_path = shortestPathGrb(est_graph)\n",
    "est_shortest_path.setObj(est_costs + x_true_I * est_delays)\n",
    "y_est_I, obj_est_I = est_shortest_path.solve()"
   ]
  },
  {
   "cell_type": "code",
   "execution_count": null,
   "id": "8",
   "metadata": {},
   "outputs": [],
   "source": [
    "# Print results\n",
    "print(f\"Objective (True shortest path): \\t{obj_true_I}\")\n",
    "print(f\"Objective (Estimated shortest path): \\t{true_graph(y_est_I, interdictions=x_true_I*true_delays)}\")\n",
    "\n",
    "# Visualize results\n",
    "fig, ax = plt.subplots(1, 2, figsize=(16, 6))\n",
    "true_graph.visualize(ax=ax[0], \n",
    "                     colored_edges=y_true_I, \n",
    "                     dashed_edges=x_true_I, \n",
    "                     interdictions=x_true_I*true_delays, \n",
    "                     title=\"True shortest path with interdictions\")\n",
    "est_graph.visualize(ax=ax[1], \n",
    "                   colored_edges=y_est_I, \n",
    "                   dashed_edges=x_true_I, \n",
    "                   interdictions=x_true_I*est_delays, \n",
    "                   title=\"Estimated shortest path with interdictions\")\n",
    "fig.tight_layout()"
   ]
  },
  {
   "cell_type": "markdown",
   "id": "9",
   "metadata": {},
   "source": [
    "## Knowledgeable Interdictor\n",
    "Now, the interdictor has full knowledge of the evader's estimates of the graph parameters. "
   ]
  },
  {
   "cell_type": "code",
   "execution_count": null,
   "id": "10",
   "metadata": {},
   "outputs": [],
   "source": [
    "# Solution for interdictor with asymmetric information\n",
    "asym_interdictor = AsymmetricSPNI(true_graph, budget=B, true_costs=true_costs, true_delays=true_delays, est_costs=est_costs, est_delays=est_delays, lsd=1)\n",
    "x_true_II, obj_true_II = asym_interdictor.solve()\n",
    "\n",
    "# True shortest path after symmetric interdiction\n",
    "true_shortest_path = shortestPathGrb(true_graph)\n",
    "true_shortest_path.setObj(true_costs + x_true_II * true_delays)\n",
    "y_true_II, obj_true_II = true_shortest_path.solve()\n",
    "\n",
    "# Estimated shortest path after symmetric interdiction\n",
    "est_shortest_path = shortestPathGrb(est_graph)\n",
    "est_shortest_path.setObj(est_costs + x_true_II * est_delays)\n",
    "y_est_II, obj_est_II = est_shortest_path.solve()\n"
   ]
  },
  {
   "cell_type": "code",
   "execution_count": null,
   "id": "11",
   "metadata": {},
   "outputs": [],
   "source": [
    "# Print results\n",
    "print(f\"Objective (True shortest path): \\t{obj_true_II}\")\n",
    "print(f\"Objective (Estimated shortest path): \\t{true_graph(y_est_II, interdictions=x_true_II*true_delays)}\")\n",
    "\n",
    "# Visualize results\n",
    "fig, ax = plt.subplots(1, 2, figsize=(16, 6))\n",
    "true_graph.visualize(ax=ax[0], \n",
    "                     colored_edges=y_true_II, \n",
    "                     dashed_edges=x_true_II, \n",
    "                     interdictions=x_true_II*true_delays, \n",
    "                     title=\"True shortest path with interdictions\")\n",
    "true_graph.visualize(ax=ax[1], \n",
    "                   colored_edges=y_est_II, \n",
    "                   dashed_edges=x_true_II, \n",
    "                   interdictions=x_true_II*est_delays, \n",
    "                   title=\"Estimated shortest path with interdictions\")\n",
    "fig.tight_layout()"
   ]
  },
  {
   "cell_type": "code",
   "execution_count": null,
   "id": "12",
   "metadata": {},
   "outputs": [],
   "source": []
  }
 ],
 "metadata": {
  "kernelspec": {
   "display_name": ".venv",
   "language": "python",
   "name": "python3"
  },
  "language_info": {
   "codemirror_mode": {
    "name": "ipython",
    "version": 3
   },
   "file_extension": ".py",
   "mimetype": "text/x-python",
   "name": "python",
   "nbconvert_exporter": "python",
   "pygments_lexer": "ipython3",
   "version": "3.12.3"
  }
 },
 "nbformat": 4,
 "nbformat_minor": 5
}
