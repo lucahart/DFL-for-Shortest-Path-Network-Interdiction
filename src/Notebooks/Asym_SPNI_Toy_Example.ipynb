{
 "cells": [
  {
   "cell_type": "markdown",
   "id": "7dda579c",
   "metadata": {},
   "source": [
    "# Toy Example for Asymmetric SPNI"
   ]
  },
  {
   "cell_type": "code",
   "execution_count": 1,
   "id": "c9ae0624",
   "metadata": {},
   "outputs": [],
   "source": [
    "# Add the parent directory to the path\n",
    "import sys, os\n",
    "sys.path.insert(0, os.path.abspath(\"../..\"))"
   ]
  },
  {
   "cell_type": "code",
   "execution_count": 2,
   "id": "5e3c1006",
   "metadata": {},
   "outputs": [],
   "source": [
    "import networkx as nx\n",
    "import numpy as np\n",
    "from src.solvers.spnia_asym import build_spnia_L\n",
    "from src.models.ShortestPathGrb import shortestPathGrb\n",
    "from src.models.ShortestPathGrid import ShortestPathGrid\n",
    "from src.solvers.BendersDecomposition import BendersDecomposition\n"
   ]
  },
  {
   "cell_type": "markdown",
   "id": "e9382edb",
   "metadata": {},
   "source": [
    "### Create true and estimated network"
   ]
  },
  {
   "cell_type": "code",
   "execution_count": 3,
   "id": "8412c1a9",
   "metadata": {},
   "outputs": [
    {
     "data": {
      "image/png": "[encoded data removed]",
      "text/plain": [
       "<Figure size 200x200 with 1 Axes>"
      ]
     },
     "metadata": {},
     "output_type": "display_data"
    },
    {
     "data": {
      "image/png": "[encoded data removed]",
      "text/plain": [
       "<Figure size 200x200 with 1 Axes>"
      ]
     },
     "metadata": {},
     "output_type": "display_data"
    }
   ],
   "source": [
    "c_true = np.array([2,3,3,3])\n",
    "grid_true = ShortestPathGrid(m=2, n=2, cost=c_true)\n",
    "grid_true.visualize()\n",
    "\n",
    "c_est = np.array([4,3,5,3])\n",
    "grid_est = ShortestPathGrid(m=2, n=2, cost=c_est)\n",
    "grid_est.visualize()"
   ]
  },
  {
   "cell_type": "code",
   "execution_count": 4,
   "id": "d6ccb4d3",
   "metadata": {},
   "outputs": [],
   "source": [
    "d_true = np.array([3,1,4,2])\n",
    "d_est = np.array([3,1,4,2])\n",
    "budget = 1"
   ]
  },
  {
   "cell_type": "markdown",
   "id": "15fb5787",
   "metadata": {},
   "source": [
    "### Interdictor assuming complete evader information"
   ]
  },
  {
   "cell_type": "code",
   "execution_count": 5,
   "id": "02912578",
   "metadata": {},
   "outputs": [
    {
     "name": "stdout",
     "output_type": "stream",
     "text": [
      "Restricted license - for non-production use only - expires 2026-11-23\n",
      "Bender's decomposition running:\n",
      "-------------------------------\n",
      "Iteration 1: z_max = 9.0, z_min = 5.0\n",
      "Iteration 2: z_max = 6.0, z_min = 6.0\n",
      "-------------------------------\n",
      "Found epsilon-optimal solution after 2 iterations with epsilon = 0.00\n"
     ]
    },
    {
     "data": {
      "image/png": "[encoded data removed]",
      "text/plain": [
       "<Figure size 200x200 with 1 Axes>"
      ]
     },
     "metadata": {},
     "output_type": "display_data"
    }
   ],
   "source": [
    "shortest_path_true = shortestPathGrb(grid_true)\n",
    "benders_true = BendersDecomposition(shortest_path_true, budget, d_true)\n",
    "x_true, y_true, obj_true = benders_true.solve(versatile=True)"
   ]
  },
  {
   "cell_type": "markdown",
   "id": "beb8ac8c",
   "metadata": {},
   "source": [
    "### Interdictor knowing asymmetric evader information"
   ]
  },
  {
   "cell_type": "code",
   "execution_count": 6,
   "id": "7ebd6a0e",
   "metadata": {},
   "outputs": [
    {
     "ename": "IndexError",
     "evalue": "too many indices for array: array is 1-dimensional, but 2 were indexed",
     "output_type": "error",
     "traceback": [
      "\u001b[31m---------------------------------------------------------------------------\u001b[39m",
      "\u001b[31mIndexError\u001b[39m                                Traceback (most recent call last)",
      "\u001b[36mCell\u001b[39m\u001b[36m \u001b[39m\u001b[32mIn[6]\u001b[39m\u001b[32m, line 1\u001b[39m\n\u001b[32m----> \u001b[39m\u001b[32m1\u001b[39m m, x, v, w, u = \u001b[43mbuild_spnia_L\u001b[49m\u001b[43m(\u001b[49m\u001b[43mgrid_true\u001b[49m\u001b[43m.\u001b[49m\u001b[43mgraph\u001b[49m\u001b[43m,\u001b[49m\u001b[43m \u001b[49m\u001b[43mbudget\u001b[49m\u001b[43m,\u001b[49m\u001b[43m \u001b[49m\u001b[43mc_true\u001b[49m\u001b[43m,\u001b[49m\u001b[43m \u001b[49m\u001b[43md_true\u001b[49m\u001b[43m,\u001b[49m\u001b[43m \u001b[49m\u001b[43mc_est\u001b[49m\u001b[43m,\u001b[49m\u001b[43m \u001b[49m\u001b[43md_est\u001b[49m\u001b[43m)\u001b[49m\n",
      "\u001b[36mFile \u001b[39m\u001b[32m~/Documents/Professional/Research/Prof_Parinaz_Naghizadeh/Code/Shortest_Path_Interdiction/src/solvers/spnia_asym.py:17\u001b[39m, in \u001b[36mbuild_spnia_L\u001b[39m\u001b[34m(G, budget, true_c, true_d, est_c, est_d, theta)\u001b[39m\n\u001b[32m     14\u001b[39m u  = m.addVars(G.nodes(), lb=-GRB.INFINITY, name=\u001b[33m\"\u001b[39m\u001b[33mu\u001b[39m\u001b[33m\"\u001b[39m)\n\u001b[32m     16\u001b[39m \u001b[38;5;66;03m# objective: true path length\u001b[39;00m\n\u001b[32m---> \u001b[39m\u001b[32m17\u001b[39m m.setObjective(\u001b[43mgp\u001b[49m\u001b[43m.\u001b[49m\u001b[43mquicksum\u001b[49m\u001b[43m(\u001b[49m\u001b[43mtrue_c\u001b[49m\u001b[43m[\u001b[49m\u001b[43me\u001b[49m\u001b[43m]\u001b[49m\u001b[43m*\u001b[49m\u001b[43mv\u001b[49m\u001b[43m[\u001b[49m\u001b[43me\u001b[49m\u001b[43m]\u001b[49m\u001b[43m \u001b[49m\u001b[43m+\u001b[49m\n\u001b[32m     18\u001b[39m \u001b[43m                           \u001b[49m\u001b[43m(\u001b[49m\u001b[43mtrue_c\u001b[49m\u001b[43m[\u001b[49m\u001b[43me\u001b[49m\u001b[43m]\u001b[49m\u001b[43m+\u001b[49m\u001b[43mtrue_d\u001b[49m\u001b[43m[\u001b[49m\u001b[43me\u001b[49m\u001b[43m]\u001b[49m\u001b[43m)\u001b[49m\u001b[43m*\u001b[49m\u001b[43mw\u001b[49m\u001b[43m[\u001b[49m\u001b[43me\u001b[49m\u001b[43m]\u001b[49m\u001b[43m \u001b[49m\u001b[38;5;28;43;01mfor\u001b[39;49;00m\u001b[43m \u001b[49m\u001b[43me\u001b[49m\u001b[43m \u001b[49m\u001b[38;5;129;43;01min\u001b[39;49;00m\u001b[43m \u001b[49m\u001b[43mG\u001b[49m\u001b[43m.\u001b[49m\u001b[43medges\u001b[49m\u001b[43m(\u001b[49m\u001b[43m)\u001b[49m\u001b[43m)\u001b[49m,\n\u001b[32m     19\u001b[39m                GRB.MAXIMIZE)\n\u001b[32m     21\u001b[39m s, t = \u001b[32m0\u001b[39m, \u001b[38;5;28mmax\u001b[39m(G.nodes)\n\u001b[32m     22\u001b[39m \u001b[38;5;28;01mfor\u001b[39;00m i \u001b[38;5;129;01min\u001b[39;00m G.nodes:\n",
      "\u001b[36mFile \u001b[39m\u001b[32msrc/gurobipy/_helpers.pyx:41\u001b[39m, in \u001b[36mgurobipy._helpers.quicksum\u001b[39m\u001b[34m()\u001b[39m\n",
      "\u001b[36mFile \u001b[39m\u001b[32m~/Documents/Professional/Research/Prof_Parinaz_Naghizadeh/Code/Shortest_Path_Interdiction/src/solvers/spnia_asym.py:17\u001b[39m, in \u001b[36m<genexpr>\u001b[39m\u001b[34m(.0)\u001b[39m\n\u001b[32m     14\u001b[39m u  = m.addVars(G.nodes(), lb=-GRB.INFINITY, name=\u001b[33m\"\u001b[39m\u001b[33mu\u001b[39m\u001b[33m\"\u001b[39m)\n\u001b[32m     16\u001b[39m \u001b[38;5;66;03m# objective: true path length\u001b[39;00m\n\u001b[32m---> \u001b[39m\u001b[32m17\u001b[39m m.setObjective(gp.quicksum(\u001b[43mtrue_c\u001b[49m\u001b[43m[\u001b[49m\u001b[43me\u001b[49m\u001b[43m]\u001b[49m*v[e] +\n\u001b[32m     18\u001b[39m                            (true_c[e]+true_d[e])*w[e] \u001b[38;5;28;01mfor\u001b[39;00m e \u001b[38;5;129;01min\u001b[39;00m G.edges()),\n\u001b[32m     19\u001b[39m                GRB.MAXIMIZE)\n\u001b[32m     21\u001b[39m s, t = \u001b[32m0\u001b[39m, \u001b[38;5;28mmax\u001b[39m(G.nodes)\n\u001b[32m     22\u001b[39m \u001b[38;5;28;01mfor\u001b[39;00m i \u001b[38;5;129;01min\u001b[39;00m G.nodes:\n",
      "\u001b[31mIndexError\u001b[39m: too many indices for array: array is 1-dimensional, but 2 were indexed"
     ]
    }
   ],
   "source": [
    "m, x, v, w, u = build_spnia_L(grid_true.graph, budget, c_true, d_true, c_est, d_est)"
   ]
  },
  {
   "cell_type": "code",
   "execution_count": null,
   "id": "1ee2e8f5",
   "metadata": {},
   "outputs": [],
   "source": []
  }
 ],
 "metadata": {
  "kernelspec": {
   "display_name": ".venv",
   "language": "python",
   "name": "python3"
  },
  "language_info": {
   "codemirror_mode": {
    "name": "ipython",
    "version": 3
   },
   "file_extension": ".py",
   "mimetype": "text/x-python",
   "name": "python",
   "nbconvert_exporter": "python",
   "pygments_lexer": "ipython3",
   "version": "3.12.3"
  }
 },
 "nbformat": 4,
 "nbformat_minor": 5
}
