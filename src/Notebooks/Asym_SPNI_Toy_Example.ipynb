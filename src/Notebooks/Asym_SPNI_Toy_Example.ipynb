{
 "cells": [
  {
   "cell_type": "markdown",
   "id": "7dda579c",
   "metadata": {},
   "source": [
    "# Toy Example for Asymmetric SPNI"
   ]
  },
  {
   "cell_type": "code",
   "execution_count": 1,
   "id": "c9ae0624",
   "metadata": {},
   "outputs": [],
   "source": [
    "# Add the parent directory to the path\n",
    "import sys, os\n",
    "sys.path.insert(0, os.path.abspath(\"../..\"))"
   ]
  },
  {
   "cell_type": "code",
   "execution_count": 2,
   "id": "5e3c1006",
   "metadata": {},
   "outputs": [],
   "source": [
    "import networkx as nx\n",
    "import numpy as np\n",
    "from src.solvers.spnia_asym import AsymmetricSPNI\n",
    "from src.models.ShortestPathGrb import shortestPathGrb\n",
    "from src.models.ShortestPathGrid import ShortestPathGrid\n",
    "from src.solvers.BendersDecomposition import BendersDecomposition"
   ]
  },
  {
   "cell_type": "markdown",
   "id": "e9382edb",
   "metadata": {},
   "source": [
    "### Create true and estimated network"
   ]
  },
  {
   "cell_type": "code",
   "execution_count": 3,
   "id": "8412c1a9",
   "metadata": {},
   "outputs": [
    {
     "data": {
      "image/png": "[encoded data removed]",
      "text/plain": [
       "<Figure size 200x200 with 1 Axes>"
      ]
     },
     "metadata": {},
     "output_type": "display_data"
    },
    {
     "data": {
      "image/png": "[encoded data removed]",
      "text/plain": [
       "<Figure size 200x200 with 1 Axes>"
      ]
     },
     "metadata": {},
     "output_type": "display_data"
    }
   ],
   "source": [
    "c_true = np.array([2,3,3,3])\n",
    "grid_true = ShortestPathGrid(m=2, n=2, cost=c_true)\n",
    "grid_true.visualize()\n",
    "\n",
    "c_est = np.array([4,3,5,3])\n",
    "grid_est = ShortestPathGrid(m=2, n=2, cost=c_est)\n",
    "grid_est.visualize()"
   ]
  },
  {
   "cell_type": "code",
   "execution_count": 4,
   "id": "d6ccb4d3",
   "metadata": {},
   "outputs": [],
   "source": [
    "d_true = np.array([3,1,4,2])\n",
    "d_est = np.array([3,1,4,2])\n",
    "budget = 1"
   ]
  },
  {
   "cell_type": "markdown",
   "id": "15fb5787",
   "metadata": {},
   "source": [
    "### Interdictor assuming complete evader information"
   ]
  },
  {
   "cell_type": "code",
   "execution_count": 5,
   "id": "02912578",
   "metadata": {},
   "outputs": [
    {
     "name": "stdout",
     "output_type": "stream",
     "text": [
      "Restricted license - for non-production use only - expires 2026-11-23\n",
      "Bender's decomposition running:\n",
      "-------------------------------\n",
      "Iteration 1: z_max = 9.0, z_min = 5.0\n",
      "Iteration 2: z_max = 6.0, z_min = 6.0\n",
      "-------------------------------\n",
      "Found epsilon-optimal solution after 2 iterations with epsilon = 0.00\n",
      "-------------------------------\n",
      "Optimal Solution: obj = 6.0\n"
     ]
    },
    {
     "data": {
      "image/png": "[encoded data removed]",
      "text/plain": [
       "<Figure size 200x200 with 1 Axes>"
      ]
     },
     "metadata": {},
     "output_type": "display_data"
    }
   ],
   "source": [
    "shortest_path_true = shortestPathGrb(grid_true)\n",
    "benders_true = BendersDecomposition(shortest_path_true, budget, d_true)\n",
    "x_true, y_true, obj_true = benders_true.solve(versatile=True)\n",
    "print(\"-------------------------------\\n\"+\n",
    "      f\"Optimal Solution: obj = {obj_true}\")"
   ]
  },
  {
   "cell_type": "markdown",
   "id": "beb8ac8c",
   "metadata": {},
   "source": [
    "### Interdictor knowing asymmetric evader information"
   ]
  },
  {
   "cell_type": "code",
   "execution_count": null,
   "id": "7ebd6a0e",
   "metadata": {},
   "outputs": [],
   "source": [
    "\n",
    "asym_spni = AsymmetricSPNI(grid_true, budget, c_true, d_true, c_est, d_est)\n",
    "m, x = asym_spni.build_spnia_L()"
   ]
  },
  {
   "cell_type": "code",
   "execution_count": 15,
   "id": "5edd9f59",
   "metadata": {},
   "outputs": [
    {
     "name": "stdout",
     "output_type": "stream",
     "text": [
      "-------------------------------\n",
      "Optimal Solution: obj = 8.0\n"
     ]
    },
    {
     "data": {
      "image/png": "[encoded data removed]",
      "text/plain": [
       "<Figure size 200x200 with 1 Axes>"
      ]
     },
     "metadata": {},
     "output_type": "display_data"
    }
   ],
   "source": [
    "m.optimize()\n",
    "z_star = m.ObjVal\n",
    "x_star = [x[e].X for e in asym_spni.G.edges]\n",
    "shortest_path_est = shortestPathGrb(grid_est)\n",
    "shortest_path_est.setObj(shortest_path_est.cost + d_est @ x_star)\n",
    "y_est, obj_est = shortest_path_est.solve()\n",
    "grid_est.visualize(colored_edges=y_est, dashed_edges=x_star)\n",
    "print(\"-------------------------------\\n\"+\n",
    "      f\"Optimal Solution: obj = {grid_true(y_est, interdictions=x_star * d_true)}\")"
   ]
  },
  {
   "cell_type": "code",
   "execution_count": null,
   "id": "ad818572",
   "metadata": {},
   "outputs": [],
   "source": []
  }
 ],
 "metadata": {
  "kernelspec": {
   "display_name": ".venv",
   "language": "python",
   "name": "python3"
  },
  "language_info": {
   "codemirror_mode": {
    "name": "ipython",
    "version": 3
   },
   "file_extension": ".py",
   "mimetype": "text/x-python",
   "name": "python",
   "nbconvert_exporter": "python",
   "pygments_lexer": "ipython3",
   "version": "3.12.3"
  }
 },
 "nbformat": 4,
 "nbformat_minor": 5
}
