{
 "cells": [
  {
   "cell_type": "markdown",
   "id": "7dda579c",
   "metadata": {},
   "source": [
    "# Toy Example for Asymmetric SPNI"
   ]
  },
  {
   "cell_type": "code",
   "execution_count": 1,
   "id": "c9ae0624",
   "metadata": {},
   "outputs": [],
   "source": [
    "# Add the parent directory to the path\n",
    "import sys, os\n",
    "sys.path.insert(0, os.path.abspath(\"../..\"))"
   ]
  },
  {
   "cell_type": "code",
   "execution_count": null,
   "id": "5e3c1006",
   "metadata": {},
   "outputs": [],
   "source": [
    "import networkx as nx\n",
    "import numpy as np\n",
    "\n",
    "from src.solvers.spnia_asym import AsymmetricSPNI\n",
    "from src.models.ShortestPathGrb import shortestPathGrb\n",
    "from src.models.ShortestPathGrid import ShortestPathGrid\n",
    "from src.solvers.BendersDecomposition import BendersDecomposition"
   ]
  },
  {
   "cell_type": "markdown",
   "id": "e9382edb",
   "metadata": {},
   "source": [
    "### Create true and estimated network"
   ]
  },
  {
   "cell_type": "code",
   "execution_count": null,
   "id": "8412c1a9",
   "metadata": {},
   "outputs": [
    {
     "data": {
      "image/png": "[encoded data removed]",
      "text/plain": [
       "<Figure size 200x200 with 1 Axes>"
      ]
     },
     "metadata": {},
     "output_type": "display_data"
    },
    {
     "data": {
      "image/png": "[encoded data removed]",
      "text/plain": [
       "<Figure size 200x200 with 1 Axes>"
      ]
     },
     "metadata": {},
     "output_type": "display_data"
    }
   ],
   "source": [
    "# Define the graph with the true costs\n",
    "c_true = np.array([2,3,3,3])\n",
    "grid_true = ShortestPathGrid(m=2, n=2, cost=c_true)\n",
    "grid_true.visualize()\n",
    "\n",
    "# Define the graph with the estimated costs\n",
    "c_est = np.array([4,3,5,3])\n",
    "grid_est = ShortestPathGrid(m=2, n=2, cost=c_est)\n",
    "grid_est.visualize()"
   ]
  },
  {
   "cell_type": "code",
   "execution_count": null,
   "id": "d6ccb4d3",
   "metadata": {},
   "outputs": [],
   "source": [
    "# Define the true and estimated delays, and the interdiction budget\n",
    "d_true = np.array([3,1,4,2])\n",
    "d_est = np.array([3,1,4,2])\n",
    "budget = 1"
   ]
  },
  {
   "cell_type": "markdown",
   "id": "15fb5787",
   "metadata": {},
   "source": [
    "### Interdictor assuming complete evader information"
   ]
  },
  {
   "cell_type": "code",
   "execution_count": 25,
   "id": "02912578",
   "metadata": {},
   "outputs": [
    {
     "name": "stdout",
     "output_type": "stream",
     "text": [
      "Bender's decomposition running:\n",
      "-------------------------------\n",
      "Iteration 1: z_max = 9.0, z_min = 5.0\n",
      "Iteration 2: z_max = 6.0, z_min = 6.0\n",
      "-------------------------------\n",
      "Found epsilon-optimal solution after 2 iterations with epsilon = 0.00\n"
     ]
    }
   ],
   "source": [
    "# Solve the Shortest Path Network Interdiction problem, \n",
    "# where the interdictor assumes the evader has full information\n",
    "shortest_path_true = shortestPathGrb(grid_true)\n",
    "benders_true = BendersDecomposition(shortest_path_true, budget, d_true)\n",
    "x_star_I, y_star_I, obj_star_I = benders_true.solve()"
   ]
  },
  {
   "cell_type": "code",
   "execution_count": 26,
   "id": "5a07e87f",
   "metadata": {},
   "outputs": [],
   "source": [
    "# Solve the true shortest path problem with the interdictions\n",
    "shortest_path_true_I = shortestPathGrb(grid_true)\n",
    "shortest_path_true_I.setObj(shortest_path_true_I.cost + d_true * x_star_I)\n",
    "y_true_I, obj_true_I = shortest_path_true_I.solve()\n",
    "\n",
    "# Solve the estimated shortest path problem with the interdictions\n",
    "shortest_path_est_I = shortestPathGrb(grid_est)\n",
    "shortest_path_est_I.setObj(shortest_path_est_I.cost + d_est * x_star_I)\n",
    "y_est_I, obj_est_I = shortest_path_est_I.solve()"
   ]
  },
  {
   "cell_type": "code",
   "execution_count": 27,
   "id": "a17e119a",
   "metadata": {},
   "outputs": [
    {
     "name": "stdout",
     "output_type": "stream",
     "text": [
      "------ True Shortest Path -----------\n",
      "Shortest Path: \t[0.0, 1.0, 0.0, 1.0]\n",
      "Objective: \t6.0\n",
      "\n",
      "------ Estimated Shortest Path ------\n",
      "Shortest Path: \t[0.0, 1.0, 0.0, 1.0]\n",
      "Objective: \t6.0\n"
     ]
    },
    {
     "data": {
      "image/png": "[encoded data removed]",
      "text/plain": [
       "<Figure size 200x200 with 1 Axes>"
      ]
     },
     "metadata": {},
     "output_type": "display_data"
    }
   ],
   "source": [
    "# Visualize the results\n",
    "shortest_path_est_I._graph.visualize(colored_edges=y_est_I, dashed_edges=x_star_I)\n",
    "print(\"------ True Shortest Path -----------\\n\" + \n",
    "      f\"Shortest Path: \\t{y_true_I}\\n\" + \n",
    "      f\"Objective: \\t{grid_true(y_true_I, interdictions=x_star_I * d_true)}\\n\")\n",
    "print(\"------ Estimated Shortest Path ------\\n\" + \n",
    "      f\"Shortest Path: \\t{y_est_I}\\n\" + \n",
    "      f\"Objective: \\t{grid_true(y_est_I, interdictions=x_star_I * d_true)}\")"
   ]
  },
  {
   "cell_type": "markdown",
   "id": "beb8ac8c",
   "metadata": {},
   "source": [
    "### Interdictor knowing asymmetric evader information"
   ]
  },
  {
   "cell_type": "code",
   "execution_count": 17,
   "id": "7ebd6a0e",
   "metadata": {},
   "outputs": [],
   "source": [
    "# Solve the Asymmetric Shortest Path Network Interdiction problem\n",
    "asym_spni = AsymmetricSPNI(grid_true, budget, c_true, d_true, c_est, d_est)\n",
    "x_star_II, z_star_II = asym_spni.solve()"
   ]
  },
  {
   "cell_type": "code",
   "execution_count": 18,
   "id": "d152fcbd",
   "metadata": {},
   "outputs": [],
   "source": [
    "# Solve the true shortest path problem with the interdictions\n",
    "shortest_path_true_II = shortestPathGrb(grid_true)\n",
    "shortest_path_true_II.setObj(shortest_path_true_II.cost + d_true * x_star_II)\n",
    "y_true_II, obj_true_II = shortest_path_true_II.solve()\n",
    "\n",
    "# Solve the estimated shortest path problem with the interdictions\n",
    "shortest_path_est_II = shortestPathGrb(grid_est)\n",
    "shortest_path_est_II.setObj(shortest_path_est_II.cost + d_est * x_star_I)\n",
    "y_est_II, obj_est_II = shortest_path_est_II.solve()"
   ]
  },
  {
   "cell_type": "code",
   "execution_count": 23,
   "id": "5edd9f59",
   "metadata": {},
   "outputs": [
    {
     "name": "stdout",
     "output_type": "stream",
     "text": [
      "------ True Shortest Path -----------\n",
      "Shortest Path: \t[1.0, 0.0, 1.0, 0.0]\n",
      "Objective: \t5.0\n",
      "\n",
      "------ Estimated Shortest Path ------\n",
      "Shortest Path: \t[0.0, 1.0, 0.0, 1.0]\n",
      "Objective: \t8.0\n"
     ]
    },
    {
     "data": {
      "image/png": "[encoded data removed]",
      "text/plain": [
       "<Figure size 200x200 with 1 Axes>"
      ]
     },
     "metadata": {},
     "output_type": "display_data"
    }
   ],
   "source": [
    "# Visualize the results\n",
    "shortest_path_est_II._graph.visualize(colored_edges=y_est_II, dashed_edges=x_star_II)\n",
    "print(\"------ True Shortest Path -----------\\n\" + \n",
    "      f\"Shortest Path: \\t{y_true_II}\\n\" + \n",
    "      f\"Objective: \\t{grid_true(y_true_II, interdictions=x_star_II * d_true)}\\n\")\n",
    "print(\"------ Estimated Shortest Path ------\\n\" + \n",
    "      f\"Shortest Path: \\t{y_est_II}\\n\" + \n",
    "      f\"Objective: \\t{grid_true(y_est_II, interdictions=x_star_II * d_true)}\")"
   ]
  },
  {
   "cell_type": "code",
   "execution_count": null,
   "id": "ad818572",
   "metadata": {},
   "outputs": [],
   "source": []
  }
 ],
 "metadata": {
  "kernelspec": {
   "display_name": ".venv",
   "language": "python",
   "name": "python3"
  },
  "language_info": {
   "codemirror_mode": {
    "name": "ipython",
    "version": 3
   },
   "file_extension": ".py",
   "mimetype": "text/x-python",
   "name": "python",
   "nbconvert_exporter": "python",
   "pygments_lexer": "ipython3",
   "version": "3.12.3"
  }
 },
 "nbformat": 4,
 "nbformat_minor": 5
}
