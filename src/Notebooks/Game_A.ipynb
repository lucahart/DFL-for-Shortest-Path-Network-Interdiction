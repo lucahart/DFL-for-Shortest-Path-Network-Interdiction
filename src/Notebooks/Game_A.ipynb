{
 "cells": [
  {
   "cell_type": "markdown",
   "id": "0",
   "metadata": {},
   "source": [
    "# Asymmetric Shortest Path Network Interdiction\n",
    "We model a shortest path network interdiction (SPNI) game, where the attacker learns the costs of the network."
   ]
  },
  {
   "cell_type": "code",
   "execution_count": null,
   "id": "1",
   "metadata": {},
   "outputs": [],
   "source": [
    "# Add the parent directory to the path\n",
    "import sys, os\n",
    "sys.path.insert(0, os.path.abspath(\"../..\"))"
   ]
  },
  {
   "cell_type": "markdown",
   "id": "2",
   "metadata": {},
   "source": [
    "## Creating a network model\n",
    "We start by creating a model of the true network and computing its true shortest path."
   ]
  },
  {
   "cell_type": "code",
   "execution_count": null,
   "id": "3",
   "metadata": {},
   "outputs": [],
   "source": [
    "# Import numpy and ShortestPathGrb class\n",
    "from numpy import arange, random\n",
    "from src.models.ShortestPathGrb import shortestPathGrb\n",
    "from src.models.ShortestPathGrid import ShortestPathGrid"
   ]
  },
  {
   "cell_type": "code",
   "execution_count": null,
   "id": "4",
   "metadata": {},
   "outputs": [],
   "source": [
    "# Set hyperparameters for grid generation\n",
    "m, n = 5, 5  # grid dimensions\n",
    "numpy_seed = 42  # for reproducibility\n",
    "pyepo_seed = 135 # for reproducibility\n",
    "\n",
    "# Set hyperparameters for data generation\n",
    "num_feat = 5 # size of feature\n",
    "deg = 4 # polynomial degree\n",
    "e = 0.5 # noise width"
   ]
  },
  {
   "cell_type": "code",
   "execution_count": null,
   "id": "5",
   "metadata": {},
   "outputs": [],
   "source": [
    "# Set random seeds\n",
    "random.seed(numpy_seed)\n",
    "\n",
    "# Create grid instance\n",
    "grid = ShortestPathGrid(m, n)\n",
    "\n",
    "# Create a opt_model instance\n",
    "opt_model = shortestPathGrb(grid)"
   ]
  },
  {
   "cell_type": "markdown",
   "id": "6",
   "metadata": {},
   "source": [
    "## Setting Network Arc Weights\n",
    "We generate the random cost vector using PyEPO's generator and assign it to the grid and opt_model."
   ]
  },
  {
   "cell_type": "code",
   "execution_count": null,
   "id": "7",
   "metadata": {},
   "outputs": [],
   "source": [
    "import pyepo\n",
    "\n",
    "# Set parameters for data generation\n",
    "num_train_data = 10 # number of training data\n",
    "num_test_data = 0 # number of test data\n",
    "cost_index = 1 # index of the cost vector to use"
   ]
  },
  {
   "cell_type": "code",
   "execution_count": null,
   "id": "8",
   "metadata": {},
   "outputs": [],
   "source": [
    "# Generate data for shortest path problem\n",
    "feats, costs = pyepo.data.shortestpath.genData(\n",
    "    num_train_data+num_test_data, \n",
    "    num_feat, \n",
    "    (m,n), \n",
    "    deg=deg, \n",
    "    noise_width=e, \n",
    "    seed=pyepo_seed\n",
    ")"
   ]
  },
  {
   "cell_type": "code",
   "execution_count": null,
   "id": "9",
   "metadata": {},
   "outputs": [],
   "source": [
    "# Choose a cost vector\n",
    "grid_costs = costs[cost_index]\n",
    "grid_feats = feats[cost_index]\n",
    "\n",
    "# Set the cost for the grid (Optionally specify the source and target nodes)\n",
    "opt_model.setObj(grid_costs)\n",
    "\n",
    "# Solve shortest path problem\n",
    "path, obj = opt_model.solve(versatile=True)"
   ]
  },
  {
   "cell_type": "markdown",
   "id": "10",
   "metadata": {},
   "source": [
    "## Create data set for parameter learning\n",
    "We create a data set that a player with insufficient data about the network weights can use to learn. "
   ]
  },
  {
   "cell_type": "code",
   "execution_count": null,
   "id": "11",
   "metadata": {},
   "outputs": [],
   "source": [
    "# Set parameters for data generation\n",
    "num_train_data = 1000 # number of training data\n",
    "num_test_data = 100 # number of test data\n",
    "\n",
    "# Generate data for shortest path problem\n",
    "feats, costs = pyepo.data.shortestpath.genData(\n",
    "    num_train_data+num_test_data, \n",
    "    num_feat, \n",
    "    (m,n), \n",
    "    deg=deg, \n",
    "    noise_width=e, \n",
    "    seed=pyepo_seed\n",
    ")"
   ]
  },
  {
   "cell_type": "code",
   "execution_count": null,
   "id": "12",
   "metadata": {},
   "outputs": [],
   "source": [
    "# split train test data\n",
    "from sklearn.model_selection import train_test_split\n",
    "x_train, x_test, c_train, c_test = train_test_split(\n",
    "    feats, \n",
    "    costs, \n",
    "    test_size=num_test_data, \n",
    "    random_state=42\n",
    ")"
   ]
  },
  {
   "cell_type": "code",
   "execution_count": null,
   "id": "13",
   "metadata": {},
   "outputs": [],
   "source": [
    "# Create opt_model for attacker\n",
    "opt_model_est = shortestPathGrb(ShortestPathGrid(m, n))\n",
    "\n",
    "# Create datasets for training and testing\n",
    "dataset_train = pyepo.data.dataset.optDataset(opt_model_est, x_train, c_train)\n",
    "dataset_test = pyepo.data.dataset.optDataset(opt_model_est, x_test, c_test)"
   ]
  },
  {
   "cell_type": "code",
   "execution_count": null,
   "id": "14",
   "metadata": {},
   "outputs": [],
   "source": [
    "# Wrap dataset into PyTorch DataLoader\n",
    "from torch.utils.data import DataLoader\n",
    "batch_size = 32\n",
    "loader_train = DataLoader(dataset_train, batch_size=batch_size, shuffle=True)\n",
    "loader_test = DataLoader(dataset_test, batch_size=batch_size, shuffle=False)"
   ]
  },
  {
   "cell_type": "markdown",
   "id": "15",
   "metadata": {},
   "source": [
    "## Train attacker\n",
    "Next we train a linear regression for the attacker to predict network weights from features."
   ]
  },
  {
   "cell_type": "code",
   "execution_count": null,
   "id": "16",
   "metadata": {},
   "outputs": [],
   "source": [
    "from src.models.LinearRegression import LinearRegression\n",
    "\n",
    "# Instantiate linear regression model for prediction\n",
    "pred_model = LinearRegression(num_feat=num_feat, num_edges=opt_model_est.num_cost)"
   ]
  },
  {
   "cell_type": "code",
   "execution_count": null,
   "id": "17",
   "metadata": {},
   "outputs": [],
   "source": [
    "# Init SPO+ loss\n",
    "spop = pyepo.func.SPOPlus(opt_model_est, processes=1)\n",
    "\n",
    "# Init optimizer\n",
    "from torch import optim\n",
    "optimizer = optim.Adam(pred_model.parameters(), lr=1e-2)"
   ]
  },
  {
   "cell_type": "code",
   "execution_count": null,
   "id": "18",
   "metadata": {},
   "outputs": [],
   "source": [
    "from src.models.trainer import Trainer\n",
    "\n",
    "# Set the number of epochs for training\n",
    "epochs = 5\n",
    "\n",
    "# Create a trainer instance\n",
    "trainer = Trainer(pred_model=pred_model, \n",
    "                  opt_model=opt_model_est, \n",
    "                  optimizer=optimizer, \n",
    "                  loss_fn=spop\n",
    "                )\n",
    "\n",
    "train_loss_log, train_regret_log, test_loss_log, test_regret_log = trainer.fit(loader_train, loader_test, epochs=epochs)"
   ]
  },
  {
   "cell_type": "code",
   "execution_count": null,
   "id": "19",
   "metadata": {},
   "outputs": [],
   "source": [
    "Trainer.vis_learning_curve(\n",
    "    trainer,\n",
    "    train_loss_log,\n",
    "    train_regret_log,\n",
    "    test_loss_log,\n",
    "    test_regret_log\n",
    ")\n",
    "\n",
    "print(\"Final regret on test set: \", test_regret_log[-1])"
   ]
  },
  {
   "cell_type": "markdown",
   "id": "20",
   "metadata": {},
   "source": [
    "## Estimate edge costs form features\n",
    "We now apply the model for weight estimation and compute an estimated shortest path."
   ]
  },
  {
   "cell_type": "code",
   "execution_count": null,
   "id": "21",
   "metadata": {},
   "outputs": [],
   "source": [
    "import torch\n",
    "\n",
    "# Predict costs using the trained model\n",
    "costs_pred = pred_model(torch.FloatTensor(grid_feats))\n",
    "\n",
    "# Create a new opt_model instance with the predicted costs\n",
    "opt_model_est.setObj(costs_pred.detach().numpy())\n",
    "\n",
    "# Solve the attacker's shortest path problem\n",
    "path_estimate, obj_estimate = opt_model_est.solve(versatile=True)"
   ]
  },
  {
   "cell_type": "code",
   "execution_count": null,
   "id": "22",
   "metadata": {},
   "outputs": [],
   "source": [
    "# Compare true cost of attacker's shortest path with true cost and true shortest path\n",
    "print(\"True cost of attacker's shortest path: \", opt_model.evaluate(path_estimate))\n",
    "print(\"True cost of optimal path: \", obj)\n",
    "# TODO: Print regret?"
   ]
  },
  {
   "cell_type": "markdown",
   "id": "23",
   "metadata": {},
   "source": [
    "## Interdictor with full knowledge\n",
    "We assume the interdictor has full knowledge of network weights and computes its interdiction actions based on that."
   ]
  },
  {
   "cell_type": "code",
   "execution_count": null,
   "id": "24",
   "metadata": {},
   "outputs": [],
   "source": [
    "# Define the interdiction cost\n",
    "interdiction_cost = random.rand(grid.num_cost)\n",
    "\n",
    "# Define Budget\n",
    "k = 5\n",
    "\n",
    "# Print the interdiction cost\n",
    "interdiction_cost"
   ]
  },
  {
   "cell_type": "code",
   "execution_count": null,
   "id": "25",
   "metadata": {},
   "outputs": [],
   "source": [
    "from src.solvers.BendersDecomposition import BendersDecomposition\n",
    "\n",
    "# Initialize the BendersDecomposition with the opt_model\n",
    "benders = BendersDecomposition(opt_model, k, interdiction_cost, max_cnt=20, eps=1e-3)"
   ]
  },
  {
   "cell_type": "code",
   "execution_count": null,
   "id": "26",
   "metadata": {},
   "outputs": [],
   "source": [
    "interdictions_x, shortest_path_y, z_min = benders.solve()"
   ]
  },
  {
   "cell_type": "code",
   "execution_count": null,
   "id": "27",
   "metadata": {},
   "outputs": [],
   "source": [
    "print(f\"Original shortest path cost: \\t{obj:.2f}\\nNew shortest path cost: \\t{z_min:.2f}\")\n",
    "\n",
    "opt_model.visualize(colored_edges=shortest_path_y, dashed_edges=interdictions_x)"
   ]
  },
  {
   "cell_type": "code",
   "execution_count": null,
   "id": "28",
   "metadata": {},
   "outputs": [],
   "source": [
    "# Create a new opt_model instance with the interdicted costs\n",
    "opt_model_interdicted_1 = shortestPathGrb(grid)\n",
    "opt_model_interdicted_1.setObj(grid_costs + interdiction_cost * interdictions_x)\n",
    "# Create a new opt_model instance with estimated costs and inderdictions\n",
    "opt_model_interdicted_1_est = shortestPathGrb(grid)\n",
    "opt_model_interdicted_1_est.setObj(costs_pred.detach().numpy() + interdiction_cost * interdictions_x)"
   ]
  },
  {
   "cell_type": "code",
   "execution_count": null,
   "id": "29",
   "metadata": {},
   "outputs": [],
   "source": [
    "# Calculate the shortest paths with and without full knowledge\n",
    "path_interdicted_1 = shortest_path_y\n",
    "path_interdicted_1_est, obj_interdicted_1_est = opt_model_interdicted_1_est.solve(versatile=True)\n",
    "\n",
    "print(f\"Interdicted shortest path cost with estimated weights: \\t{opt_model_interdicted_1.evaluate(path_interdicted_1_est):.2f}\")"
   ]
  },
  {
   "cell_type": "markdown",
   "id": "30",
   "metadata": {},
   "source": [
    "## Interdictor with limited knowledge\n",
    "We now assume that the interdictor does not have full network knowledge and that it uses the learned linear regression for arc weight estimation."
   ]
  },
  {
   "cell_type": "code",
   "execution_count": null,
   "id": "31",
   "metadata": {},
   "outputs": [],
   "source": [
    "# Initialize the BendersDecomposition with the attacker_opt_model\n",
    "benders_est = BendersDecomposition(opt_model_est, k, interdiction_cost, max_cnt=20, eps=1e-3)"
   ]
  },
  {
   "cell_type": "code",
   "execution_count": null,
   "id": "32",
   "metadata": {},
   "outputs": [],
   "source": [
    "interdictions_x_2, shortest_path_y_2, z_min_2 = benders_est.solve()"
   ]
  },
  {
   "cell_type": "code",
   "execution_count": null,
   "id": "33",
   "metadata": {},
   "outputs": [],
   "source": [
    "grid.visualize(colored_edges=shortest_path_y_2, dashed_edges=interdictions_x_2)"
   ]
  },
  {
   "cell_type": "code",
   "execution_count": null,
   "id": "34",
   "metadata": {},
   "outputs": [],
   "source": [
    "# Create a new opt_model instance with the interdicted costs\n",
    "opt_model_interdicted_2 = shortestPathGrb(grid)\n",
    "opt_model_interdicted_2.setObj(grid_costs + interdiction_cost * interdictions_x_2)\n",
    "\n",
    "# Create a new opt_model instance with the estimated costs and interdictions\n",
    "opt_model_interdicted_2_est = shortestPathGrb(grid)\n",
    "opt_model_interdicted_2_est.setObj(costs_pred.detach().numpy() + interdiction_cost * interdictions_x_2)"
   ]
  },
  {
   "cell_type": "code",
   "execution_count": null,
   "id": "35",
   "metadata": {},
   "outputs": [],
   "source": [
    "# Calculate the shortest paths with and without full knowledge\n",
    "path_interdicted_2, obj_interdicted_2 = opt_model_interdicted_2.solve(versatile=True)\n",
    "path_interdicted_2_est = shortest_path_y_2"
   ]
  },
  {
   "cell_type": "code",
   "execution_count": null,
   "id": "36",
   "metadata": {},
   "outputs": [],
   "source": [
    "from tabulate import tabulate\n",
    "\n",
    "# table_with_attacker = [[\n",
    "#         \"Game Setup\", \n",
    "#         \"True Attacker Path Cost\", \n",
    "#         \"Estimated Attacker Path Cost\", \n",
    "#         \"True Attacker Path Cost (Interdicted)\", \n",
    "#         \"Estimated Attacker Path Cost (Interdicted)\"\n",
    "#     ], [\n",
    "#         \"B1 + A1\", \n",
    "#         obj, opt_model.evaluate(path), \n",
    "#         z_min, \n",
    "#         z_min\n",
    "#     ], [\n",
    "#         \"B1 + A2\", \n",
    "#         opt_model.evaluate(path_estimate), \n",
    "#         obj_estimate, \n",
    "#         z_min, \n",
    "#         opt_model_est.evaluate(shortest_path_y) + interdictions_x @ interdiction_cost\n",
    "#     ], [\n",
    "#         \"B2 + A2\", \n",
    "#         opt_model.evaluate(path_estimate), \n",
    "#         obj_estimate, \n",
    "#         opt_model.evaluate(shortest_path_y) + interdictions_x_2 @ interdiction_cost, z_min_2\n",
    "#     ]\n",
    "# ]\n",
    "\n",
    "table = [[\n",
    "        \"Game Setup\", \n",
    "        \"True Attacker Path Cost\", \n",
    "        \"True Attacker Path Cost (Interdicted)\"\n",
    "    ], [\n",
    "        \"I1 + E1\", \n",
    "        obj, \n",
    "        opt_model_interdicted_1.evaluate(shortest_path_y)\n",
    "    ], [\n",
    "        \"I1 + E2\", \n",
    "        opt_model.evaluate(path_estimate), \n",
    "        opt_model_interdicted_1.evaluate(path_interdicted_1_est)\n",
    "    ], [\n",
    "        \"I2 + E2\", \n",
    "        opt_model.evaluate(path_estimate), \n",
    "        opt_model_interdicted_2.evaluate(path_interdicted_2_est)\n",
    "    ], [\n",
    "        \"I2 + E1\",\n",
    "        obj,\n",
    "        opt_model_interdicted_2.evaluate(path_interdicted_2)\n",
    "    ]\n",
    "]\n",
    "\n",
    "print(\"Results of simulating the interdictor and evader with different graph knowledge:\")\n",
    "print(\"\\tI1 and I2 are the interdictor with and without knowledge of the graph, respectively.\")\n",
    "print(\"\\tE1 and E2 are the evader with and without knowledge of the graph, respectively.\")\n",
    "\n",
    "print(tabulate(table, headers='firstrow', tablefmt='fancy_grid'))"
   ]
  },
  {
   "cell_type": "code",
   "execution_count": null,
   "id": "37",
   "metadata": {},
   "outputs": [],
   "source": []
  }
 ],
 "metadata": {
  "kernelspec": {
   "display_name": ".venv",
   "language": "python",
   "name": "python3"
  },
  "language_info": {
   "codemirror_mode": {
    "name": "ipython",
    "version": 3
   },
   "file_extension": ".py",
   "mimetype": "text/x-python",
   "name": "python",
   "nbconvert_exporter": "python",
   "pygments_lexer": "ipython3",
   "version": "3.12.3"
  }
 },
 "nbformat": 4,
 "nbformat_minor": 5
}
