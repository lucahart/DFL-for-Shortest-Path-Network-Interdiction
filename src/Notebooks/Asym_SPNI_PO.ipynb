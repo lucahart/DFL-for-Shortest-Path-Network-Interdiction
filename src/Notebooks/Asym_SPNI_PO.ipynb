{
 "cells": [
  {
   "cell_type": "markdown",
   "id": "79319ada",
   "metadata": {},
   "source": []
  },
  {
   "cell_type": "code",
   "execution_count": 1,
   "id": "801ba03f",
   "metadata": {
    "execution": {
     "iopub.execute_input": "2025-08-07T00:12:46.348007Z",
     "iopub.status.busy": "2025-08-07T00:12:46.347741Z",
     "iopub.status.idle": "2025-08-07T00:12:46.354066Z",
     "shell.execute_reply": "2025-08-07T00:12:46.353210Z"
    }
   },
   "outputs": [],
   "source": [
    "# Add the project root and src directory to Python path\n",
    "import sys, pathlib\n",
    "repo_root = pathlib.Path.cwd()\n",
    "while not (repo_root / 'setup.py').exists() and repo_root != repo_root.parent:\n",
    "    repo_root = repo_root.parent\n",
    "sys.path.insert(0, str(repo_root))\n",
    "sys.path.insert(0, str(repo_root / 'src'))\n"
   ]
  },
  {
   "cell_type": "code",
   "execution_count": 2,
   "id": "5531c1c4",
   "metadata": {
    "execution": {
     "iopub.execute_input": "2025-08-07T00:12:46.356509Z",
     "iopub.status.busy": "2025-08-07T00:12:46.356260Z",
     "iopub.status.idle": "2025-08-07T00:12:51.291979Z",
     "shell.execute_reply": "2025-08-07T00:12:51.291104Z"
    }
   },
   "outputs": [],
   "source": [
    "# Import necessary libraries\n",
    "import numpy as np\n",
    "import matplotlib.pyplot as plt\n",
    "\n",
    "import torch\n",
    "import torch.nn as nn\n",
    "import pyepo\n",
    "from sklearn.model_selection import train_test_split\n",
    "from src.models.LinearRegression import LinearRegression\n",
    "\n",
    "from src.solvers.spnia_asym import AsymmetricSPNI\n",
    "from src.models.ShortestPathGrb import shortestPathGrb\n",
    "from src.models.ShortestPathGrid import ShortestPathGrid\n",
    "from src.solvers.BendersDecomposition import BendersDecomposition\n",
    "from data.DataGenerator import DataGenerator\n",
    "from models.trainer import Trainer"
   ]
  },
  {
   "cell_type": "code",
   "execution_count": 3,
   "id": "6b6701b9",
   "metadata": {
    "execution": {
     "iopub.execute_input": "2025-08-07T00:12:51.296343Z",
     "iopub.status.busy": "2025-08-07T00:12:51.295756Z",
     "iopub.status.idle": "2025-08-07T00:12:51.301643Z",
     "shell.execute_reply": "2025-08-07T00:12:51.300904Z"
    }
   },
   "outputs": [],
   "source": [
    "# Define hyperparameters\n",
    "c_min: float = 1.0\n",
    "c_max: float = 10.0\n",
    "d_min: float = 1.0\n",
    "d_max: float = 10.0\n",
    "Q = 0.6\n",
    "B = 5\n",
    "network = (6, 8)\n",
    "random_seed = 31\n",
    "\n",
    "# ML hyperparameters\n",
    "num_features = 5\n",
    "num_data_samples = 100\n",
    "test_size = 0.2\n",
    "data_loader_batch_size = 32\n",
    "epochs = 5\n",
    "\n",
    "# Set the random seed for reproducibility\n",
    "np.random.seed(random_seed)"
   ]
  },
  {
   "cell_type": "code",
   "execution_count": 4,
   "id": "1d6193b5",
   "metadata": {
    "execution": {
     "iopub.execute_input": "2025-08-07T00:12:51.304449Z",
     "iopub.status.busy": "2025-08-07T00:12:51.304191Z",
     "iopub.status.idle": "2025-08-07T00:12:51.318273Z",
     "shell.execute_reply": "2025-08-07T00:12:51.317345Z"
    }
   },
   "outputs": [
    {
     "name": "stdout",
     "output_type": "stream",
     "text": [
      "Restricted license - for non-production use only - expires 2026-11-23\n"
     ]
    }
   ],
   "source": [
    "# Define a graph with appropriate dimensions and an opt_model \n",
    "# for solving the shortest path problem on the graph\n",
    "graph = ShortestPathGrid(network[0], network[1])\n",
    "opt_model = shortestPathGrb(graph)"
   ]
  },
  {
   "cell_type": "code",
   "execution_count": 5,
   "id": "936c41bd",
   "metadata": {
    "execution": {
     "iopub.execute_input": "2025-08-07T00:12:51.321359Z",
     "iopub.status.busy": "2025-08-07T00:12:51.321004Z",
     "iopub.status.idle": "2025-08-07T00:12:51.356258Z",
     "shell.execute_reply": "2025-08-07T00:12:51.355474Z"
    }
   },
   "outputs": [],
   "source": [
    "# # Generate artificial data samples\n",
    "# data_gen = DataGenerator(\n",
    "#     num_costs=graph.num_cost,\n",
    "#     num_features=num_features,\n",
    "#     cost_feature_map=\"PolynomialKernel\",\n",
    "#     c_range=(c_min, c_max),\n",
    "#     epsilon_bar=0.05\n",
    "# )\n",
    "# costs, features = data_gen.generate_data(num_samples=num_data_samples)\n",
    "\n",
    "features, costs = pyepo.data.shortestpath.genData(\n",
    "    1000, \n",
    "    num_features, \n",
    "    (graph.m, graph.n), \n",
    "    deg=3, \n",
    "    noise_width=0.05, \n",
    "    seed=31\n",
    ")\n",
    "\n",
    "# Split the data into training and testing sets\n",
    "X_train, X_test, c_train, c_test = train_test_split(features, costs, test_size=test_size, random_state=random_seed)\n"
   ]
  },
  {
   "cell_type": "markdown",
   "id": "3db2888c",
   "metadata": {},
   "source": [
    "## Predict-then-Optimize"
   ]
  },
  {
   "cell_type": "code",
   "execution_count": 6,
   "id": "533dc3ea",
   "metadata": {
    "execution": {
     "iopub.execute_input": "2025-08-07T00:12:51.359241Z",
     "iopub.status.busy": "2025-08-07T00:12:51.358971Z",
     "iopub.status.idle": "2025-08-07T00:12:53.287520Z",
     "shell.execute_reply": "2025-08-07T00:12:53.286783Z"
    }
   },
   "outputs": [],
   "source": [
    "# 1) Define your network dimensions\n",
    "input_size  =  num_features   # e.g. number of features in your cost‐vector\n",
    "hidden_size =  64   # number of neurons in the hidden layer\n",
    "output_size =  graph.num_cost   # e.g. # of target outputs, or number of classes\n",
    "\n",
    "# 2) Build the model with nn.Sequential\n",
    "model = nn.Sequential(\n",
    "    nn.Linear(input_size, hidden_size),  # first affine layer\n",
    "    nn.ReLU(),                           # non‐linearity\n",
    "    nn.Linear(hidden_size, output_size)  # second affine layer\n",
    ")\n",
    "\n",
    "# 3) Define deviece and move the model to it\n",
    "device = torch.device(\"cuda\" if torch.cuda.is_available() else \"cpu\")\n",
    "model.to(device)\n",
    "\n",
    "# 4) Define the loss function and optimizer\n",
    "criterion = nn.MSELoss()\n",
    "optimizer = torch.optim.Adam(model.parameters(), lr=0.001)\n",
    "\n",
    "# 5) Create DataLoader for training data\n",
    "train_dataset = torch.utils.data.TensorDataset(torch.tensor(X_train, dtype=torch.float32), torch.tensor(c_train, dtype=torch.float32))\n",
    "train_loader = torch.utils.data.DataLoader(train_dataset, batch_size=data_loader_batch_size, shuffle=True)"
   ]
  },
  {
   "cell_type": "code",
   "execution_count": 7,
   "id": "0191123e",
   "metadata": {
    "execution": {
     "iopub.execute_input": "2025-08-07T00:12:53.292777Z",
     "iopub.status.busy": "2025-08-07T00:12:53.292035Z",
     "iopub.status.idle": "2025-08-07T00:12:53.494626Z",
     "shell.execute_reply": "2025-08-07T00:12:53.493978Z"
    }
   },
   "outputs": [
    {
     "name": "stdout",
     "output_type": "stream",
     "text": [
      "Epoch 1, Loss: 0.3292\n",
      "Epoch 2, Loss: 0.1779\n",
      "Epoch 3, Loss: 0.0996\n",
      "Epoch 4, Loss: 0.0505\n",
      "Epoch 5, Loss: 0.0410\n"
     ]
    }
   ],
   "source": [
    "# 6) Training loop\n",
    "for epoch in range(epochs):\n",
    "    for x_batch, y_batch in train_loader:\n",
    "        x_batch, y_batch = x_batch.to(device), y_batch.to(device)\n",
    "\n",
    "        # Forward pass\n",
    "        y_pred = model(x_batch)\n",
    "        loss   = criterion(y_pred, y_batch)\n",
    "\n",
    "        # Backprop + optimize\n",
    "        optimizer.zero_grad()\n",
    "        loss.backward()\n",
    "        optimizer.step()\n",
    "\n",
    "    print(f\"Epoch {epoch+1}, Loss: {loss.item():.4f}\")"
   ]
  },
  {
   "cell_type": "markdown",
   "id": "d01e35e9",
   "metadata": {},
   "source": [
    "## Smart Predict-then-Optimize with OptNet"
   ]
  },
  {
   "cell_type": "code",
   "execution_count": 8,
   "id": "54b8b174",
   "metadata": {
    "execution": {
     "iopub.execute_input": "2025-08-07T00:12:53.499900Z",
     "iopub.status.busy": "2025-08-07T00:12:53.499635Z",
     "iopub.status.idle": "2025-08-07T00:12:55.058147Z",
     "shell.execute_reply": "2025-08-07T00:12:55.057139Z"
    }
   },
   "outputs": [
    {
     "name": "stdout",
     "output_type": "stream",
     "text": [
      "Optimizing for optDataset...\n"
     ]
    },
    {
     "name": "stderr",
     "output_type": "stream",
     "text": [
      "\r",
      "  0% 0/800 [00:00<?, ?it/s]"
     ]
    },
    {
     "name": "stderr",
     "output_type": "stream",
     "text": [
      "\r",
      "  8% 63/800 [00:00<00:01, 623.63it/s]"
     ]
    },
    {
     "name": "stderr",
     "output_type": "stream",
     "text": [
      "\r",
      " 16% 127/800 [00:00<00:01, 628.48it/s]"
     ]
    },
    {
     "name": "stderr",
     "output_type": "stream",
     "text": [
      "\r",
      " 24% 190/800 [00:00<00:00, 619.06it/s]"
     ]
    },
    {
     "name": "stderr",
     "output_type": "stream",
     "text": [
      "\r",
      " 32% 255/800 [00:00<00:00, 628.97it/s]"
     ]
    },
    {
     "name": "stderr",
     "output_type": "stream",
     "text": [
      "\r",
      " 40% 319/800 [00:00<00:00, 629.24it/s]"
     ]
    },
    {
     "name": "stderr",
     "output_type": "stream",
     "text": [
      "\r",
      " 48% 385/800 [00:00<00:00, 638.89it/s]"
     ]
    },
    {
     "name": "stderr",
     "output_type": "stream",
     "text": [
      "\r",
      " 56% 452/800 [00:00<00:00, 646.69it/s]"
     ]
    },
    {
     "name": "stderr",
     "output_type": "stream",
     "text": [
      "\r",
      " 65% 519/800 [00:00<00:00, 651.52it/s]"
     ]
    },
    {
     "name": "stderr",
     "output_type": "stream",
     "text": [
      "\r",
      " 73% 587/800 [00:00<00:00, 659.73it/s]"
     ]
    },
    {
     "name": "stderr",
     "output_type": "stream",
     "text": [
      "\r",
      " 82% 653/800 [00:01<00:00, 656.55it/s]"
     ]
    },
    {
     "name": "stderr",
     "output_type": "stream",
     "text": [
      "\r",
      " 90% 719/800 [00:01<00:00, 653.90it/s]"
     ]
    },
    {
     "name": "stderr",
     "output_type": "stream",
     "text": [
      "\r",
      " 98% 785/800 [00:01<00:00, 648.73it/s]"
     ]
    },
    {
     "name": "stderr",
     "output_type": "stream",
     "text": [
      "\r",
      "100% 800/800 [00:01<00:00, 643.69it/s]"
     ]
    },
    {
     "name": "stdout",
     "output_type": "stream",
     "text": [
      "Optimizing for optDataset...\n"
     ]
    },
    {
     "name": "stderr",
     "output_type": "stream",
     "text": [
      "\n"
     ]
    },
    {
     "name": "stderr",
     "output_type": "stream",
     "text": [
      "\r",
      "  0% 0/200 [00:00<?, ?it/s]"
     ]
    },
    {
     "name": "stderr",
     "output_type": "stream",
     "text": [
      "\r",
      " 35% 70/200 [00:00<00:00, 698.51it/s]"
     ]
    },
    {
     "name": "stderr",
     "output_type": "stream",
     "text": [
      "\r",
      " 70% 140/200 [00:00<00:00, 679.26it/s]"
     ]
    },
    {
     "name": "stderr",
     "output_type": "stream",
     "text": [
      "\r",
      "100% 200/200 [00:00<00:00, 682.86it/s]"
     ]
    },
    {
     "name": "stderr",
     "output_type": "stream",
     "text": [
      "\n"
     ]
    }
   ],
   "source": [
    "# Create data loaders for training and testing\n",
    "train_dataset = pyepo.data.dataset.optDataset(opt_model, X_train, c_train)\n",
    "test_dataset = pyepo.data.dataset.optDataset(opt_model, X_test, c_test)\n",
    "\n",
    "train_loader = torch.utils.data.DataLoader(train_dataset, batch_size=data_loader_batch_size, shuffle=True)\n",
    "test_loader = torch.utils.data.DataLoader(test_dataset, batch_size=data_loader_batch_size, shuffle=False)"
   ]
  },
  {
   "cell_type": "code",
   "execution_count": 9,
   "id": "5b468ad3",
   "metadata": {
    "execution": {
     "iopub.execute_input": "2025-08-07T00:12:55.060909Z",
     "iopub.status.busy": "2025-08-07T00:12:55.060633Z",
     "iopub.status.idle": "2025-08-07T00:12:55.067717Z",
     "shell.execute_reply": "2025-08-07T00:12:55.066907Z"
    }
   },
   "outputs": [
    {
     "name": "stdout",
     "output_type": "stream",
     "text": [
      "Num of cores: 1\n"
     ]
    }
   ],
   "source": [
    "# Instantiate linear regression model\n",
    "# model = LinearRegression(num_feat=num_features, num_edges=graph.num_cost)\n",
    "import torch\n",
    "import torch.nn as nn\n",
    "\n",
    "# 1) Define your network dimensions\n",
    "input_size  =  num_features   # e.g. number of features in your cost‐vector\n",
    "hidden_size =  64   # number of neurons in the hidden layer\n",
    "output_size =  graph.num_cost   # e.g. # of target outputs, or number of classes\n",
    "\n",
    "# 2) Build the model with nn.Sequential\n",
    "model = nn.Sequential(\n",
    "    nn.Linear(input_size, hidden_size),  # first affine layer\n",
    "    nn.ReLU(),                           # non‐linearity\n",
    "    nn.Linear(hidden_size, output_size)  # second affine layer\n",
    ")\n",
    "\n",
    "# Init SPO+ loss\n",
    "spop = pyepo.func.SPOPlus(opt_model, processes=1)\n",
    "\n",
    "# Init optimizer\n",
    "from torch import optim\n",
    "optimizer = optim.Adam(model.parameters(), lr=.1)"
   ]
  },
  {
   "cell_type": "code",
   "execution_count": 10,
   "id": "55654118",
   "metadata": {
    "execution": {
     "iopub.execute_input": "2025-08-07T00:12:55.070257Z",
     "iopub.status.busy": "2025-08-07T00:12:55.069989Z",
     "iopub.status.idle": "2025-08-07T00:13:13.456681Z",
     "shell.execute_reply": "2025-08-07T00:13:13.455785Z"
    }
   },
   "outputs": [
    {
     "name": "stdout",
     "output_type": "stream",
     "text": [
      "Epoch 00 | Train Loss: 3.9955 | Train Regret: 0.0302 | Test Loss: 2.2668 | Test Regret: 0.0349\n"
     ]
    },
    {
     "name": "stdout",
     "output_type": "stream",
     "text": [
      "Epoch 01 | Train Loss: 2.4094 | Train Regret: 0.0309 | Test Loss: 2.7844 | Test Regret: 0.0355\n"
     ]
    },
    {
     "name": "stdout",
     "output_type": "stream",
     "text": [
      "Epoch 02 | Train Loss: 2.0690 | Train Regret: 0.0310 | Test Loss: 2.4882 | Test Regret: 0.0382\n"
     ]
    },
    {
     "name": "stdout",
     "output_type": "stream",
     "text": [
      "Epoch 03 | Train Loss: 2.1308 | Train Regret: 0.0333 | Test Loss: 1.8917 | Test Regret: 0.0327\n"
     ]
    },
    {
     "name": "stdout",
     "output_type": "stream",
     "text": [
      "Epoch 04 | Train Loss: 2.0197 | Train Regret: 0.0243 | Test Loss: 2.0821 | Test Regret: 0.0320\n"
     ]
    }
   ],
   "source": [
    "# Create a trainer instance and train the model using SPO+\n",
    "trainer = Trainer(pred_model=model,\n",
    "                  opt_model=opt_model,\n",
    "                  optimizer=optimizer,\n",
    "                  loss_fn=spop\n",
    "                )\n",
    "\n",
    "train_loss_log, train_regret_log, test_loss_log, test_regret_log = trainer.fit(train_loader, test_loader, epochs=epochs)"
   ]
  },
  {
   "cell_type": "code",
   "execution_count": 11,
   "id": "dad182f5",
   "metadata": {
    "execution": {
     "iopub.execute_input": "2025-08-07T00:13:13.459902Z",
     "iopub.status.busy": "2025-08-07T00:13:13.459622Z",
     "iopub.status.idle": "2025-08-07T00:13:13.857891Z",
     "shell.execute_reply": "2025-08-07T00:13:13.857014Z"
    }
   },
   "outputs": [
    {
     "data": {
      "image/png": "[encoded data removed]",
      "text/plain": [
       "<Figure size 1600x400 with 2 Axes>"
      ]
     },
     "metadata": {},
     "output_type": "display_data"
    },
    {
     "name": "stdout",
     "output_type": "stream",
     "text": [
      "Final regret on test set: 0.032000573746852015\n",
      "Predicted shortest path objective: -7.376911140978336\n",
      "Predicted path vector: [0.0, 0.0, 0.0, 0.0, 0.0, 0.0, 0.0, 1.0, 0.0, 0.0, 0.0, 0.0, 0.0, 0.0, 0.0, 1.0, 1.0, 1.0, 0.0, 0.0, 0.0, 0.0, 0.0, 0.0, 0.0, 1.0, 0.0, 0.0, 0.0, 0.0, 0.0, 0.0, 0.0, 0.0, 0.0, 0.0, 0.0, 0.0, 0.0, 0.0, 1.0, 0.0, 0.0, 0.0, 0.0, 0.0, 0.0, 0.0, 1.0, 0.0, 0.0, 0.0, 0.0, 0.0, 0.0, 0.0, 1.0, 0.0, 0.0, 0.0, 0.0, 0.0, 0.0, 0.0, 1.0, 1.0, 0.0, 0.0, 0.0, 0.0, 0.0, 0.0, 0.0, 1.0, 0.0, 0.0, 0.0, 0.0, 0.0, 0.0, 0.0, 1.0]\n"
     ]
    }
   ],
   "source": [
    "# Plot training loss and regret similar to Trainer.vis_learning_curve\n",
    "def plot_learning_curve(train_loss_log, train_regret_log, test_loss_log=None, test_regret_log=None, n_epochs=trainer.n_epochs):\n",
    "    fig, (ax1, ax2) = plt.subplots(1, 2, figsize=(16,4))\n",
    "    ax1.plot(train_regret_log, label='Training Regret')\n",
    "    if test_regret_log is not None:\n",
    "        ax1.scatter(np.arange(len(test_regret_log))*n_epochs, test_regret_log, marker='x', color='red', label='Testing Regret')\n",
    "    ax1.set_xlabel('Epoch')\n",
    "    ax1.set_ylabel('Regret')\n",
    "    ax1.set_title('Regret Learning Curve')\n",
    "    ax1.legend()\n",
    "\n",
    "    ax2.plot(train_loss_log, label='Training Loss')\n",
    "    if test_loss_log is not None:\n",
    "        ax2.scatter(np.arange(len(test_loss_log))*n_epochs, test_loss_log, marker='x', color='red', label='Testing Loss')\n",
    "    ax2.set_xlabel('Epoch')\n",
    "    ax2.set_ylabel('Loss')\n",
    "    ax2.set_title('Loss Learning Curve')\n",
    "    ax2.legend()\n",
    "\n",
    "    plt.tight_layout()\n",
    "    plt.show()\n",
    "\n",
    "plot_learning_curve(train_loss_log, train_regret_log, test_loss_log, test_regret_log)\n",
    "\n",
    "print('Final regret on test set:', test_regret_log[-1])\n",
    "\n",
    "# Use the trained model with the optimization layer to compute a shortest path for one test sample\n",
    "sample_feat = torch.tensor(X_test[0], dtype=torch.float32).to(device)\n",
    "with torch.no_grad():\n",
    "    pred_cost = model(sample_feat).cpu().numpy()\n",
    "opt_model.setObj(pred_cost)\n",
    "pred_path, pred_obj = opt_model.solve()\n",
    "print('Predicted shortest path objective:', pred_obj)\n",
    "print('Predicted path vector:', pred_path)\n"
   ]
  }
 ],
 "metadata": {
  "kernelspec": {
   "display_name": ".venv",
   "language": "python",
   "name": "python3"
  },
  "language_info": {
   "codemirror_mode": {
    "name": "ipython",
    "version": 3
   },
   "file_extension": ".py",
   "mimetype": "text/x-python",
   "name": "python",
   "nbconvert_exporter": "python",
   "pygments_lexer": "ipython3",
   "version": "3.12.10"
  }
 },
 "nbformat": 4,
 "nbformat_minor": 5
}
