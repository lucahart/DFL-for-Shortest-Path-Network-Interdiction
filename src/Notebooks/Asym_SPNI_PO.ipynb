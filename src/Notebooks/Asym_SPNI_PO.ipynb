{
 "cells": [
  {
   "cell_type": "markdown",
   "id": "79319ada",
   "metadata": {},
   "source": []
  },
  {
   "cell_type": "code",
   "execution_count": 22,
   "id": "801ba03f",
   "metadata": {},
   "outputs": [],
   "source": [
    "# Add the parent directory to the path\n",
    "import sys, os\n",
    "sys.path.insert(0, os.path.abspath(\"../..\"))"
   ]
  },
  {
   "cell_type": "code",
   "execution_count": 23,
   "id": "5531c1c4",
   "metadata": {},
   "outputs": [],
   "source": [
    "# Import necessary libraries\n",
    "import numpy as np\n",
    "import matplotlib.pyplot as plt\n",
    "\n",
    "import torch\n",
    "import torch.nn as nn\n",
    "import pyepo\n",
    "from sklearn.model_selection import train_test_split\n",
    "from src.models.LinearRegression import LinearRegression\n",
    "\n",
    "from src.solvers.spnia_asym import AsymmetricSPNI\n",
    "from src.models.ShortestPathGrb import shortestPathGrb\n",
    "from src.models.ShortestPathGrid import ShortestPathGrid\n",
    "from src.solvers.BendersDecomposition import BendersDecomposition\n",
    "from data.DataGenerator import DataGenerator\n",
    "from models.trainer import Trainer"
   ]
  },
  {
   "cell_type": "code",
   "execution_count": 24,
   "id": "6b6701b9",
   "metadata": {},
   "outputs": [],
   "source": [
    "# Define hyperparameters\n",
    "c_min: float = 1.0\n",
    "c_max: float = 10.0\n",
    "d_min: float = 1.0\n",
    "d_max: float = 10.0\n",
    "Q = 0.6\n",
    "B = 5\n",
    "network = (6, 8)\n",
    "random_seed = 31\n",
    "\n",
    "# ML hyperparameters\n",
    "num_features = 5\n",
    "num_data_samples = 100\n",
    "test_size = 0.2\n",
    "data_loader_batch_size = 32\n",
    "epochs = 5\n",
    "\n",
    "# Set the random seed for reproducibility\n",
    "np.random.seed(random_seed)"
   ]
  },
  {
   "cell_type": "code",
   "execution_count": 25,
   "id": "1d6193b5",
   "metadata": {},
   "outputs": [],
   "source": [
    "# Define a graph with appropriate dimensions and an opt_model \n",
    "# for solving the shortest path problem on the graph\n",
    "graph = ShortestPathGrid(network[0], network[1])\n",
    "opt_model = shortestPathGrb(graph)"
   ]
  },
  {
   "cell_type": "code",
   "execution_count": 32,
   "id": "936c41bd",
   "metadata": {},
   "outputs": [
    {
     "name": "stdout",
     "output_type": "stream",
     "text": [
      "Optimizing for optDataset...\n"
     ]
    },
    {
     "name": "stderr",
     "output_type": "stream",
     "text": [
      "100%|██████████| 800/800 [00:00<00:00, 1773.50it/s]"
     ]
    },
    {
     "name": "stdout",
     "output_type": "stream",
     "text": [
      "Optimizing for optDataset...\n"
     ]
    },
    {
     "name": "stderr",
     "output_type": "stream",
     "text": [
      "\n",
      "100%|██████████| 200/200 [00:00<00:00, 1772.01it/s]\n"
     ]
    }
   ],
   "source": [
    "# # Generate artificial data samples\n",
    "# data_gen = DataGenerator(\n",
    "#     num_costs=graph.num_cost,\n",
    "#     num_features=num_features,\n",
    "#     cost_feature_map=\"PolynomialKernel\",\n",
    "#     c_range=(c_min, c_max),\n",
    "#     epsilon_bar=0.05\n",
    "# )\n",
    "# costs, features = data_gen.generate_data(num_samples=num_data_samples)\n",
    "\n",
    "features, costs = pyepo.data.shortestpath.genData(\n",
    "    1000, \n",
    "    num_features, \n",
    "    (graph.m, graph.n), \n",
    "    deg=3, \n",
    "    noise_width=0.05, \n",
    "    seed=31\n",
    ")\n",
    "\n",
    "# Split the data into training and testing sets\n",
    "X_train, X_test, c_train, c_test = train_test_split(features, costs, test_size=test_size, random_state=random_seed)\n",
    "\n",
    "# Create data loaders for training and testing\n",
    "optnet_train_dataset = pyepo.data.dataset.optDataset(opt_model, X_train, c_train)\n",
    "optnet_test_dataset = pyepo.data.dataset.optDataset(opt_model, X_test, c_test)\n",
    "\n",
    "optnet_train_loader = torch.utils.data.DataLoader(optnet_train_dataset, batch_size=data_loader_batch_size, shuffle=True)\n",
    "optnet_test_loader = torch.utils.data.DataLoader(optnet_test_dataset, batch_size=data_loader_batch_size, shuffle=False)\n"
   ]
  },
  {
   "cell_type": "markdown",
   "id": "3db2888c",
   "metadata": {},
   "source": [
    "## Predict-then-Optimize"
   ]
  },
  {
   "cell_type": "code",
   "execution_count": 33,
   "id": "533dc3ea",
   "metadata": {},
   "outputs": [],
   "source": [
    "# 1) Define your network dimensions\n",
    "input_size  =  num_features   # e.g. number of features in your cost‐vector\n",
    "hidden_size =  64   # number of neurons in the hidden layer\n",
    "output_size =  graph.num_cost   # e.g. # of target outputs, or number of classes\n",
    "\n",
    "# 2) Build the model with nn.Sequential\n",
    "model = nn.Sequential(\n",
    "    nn.Linear(input_size, hidden_size),  # first affine layer\n",
    "    nn.ReLU(),                           # non‐linearity\n",
    "    nn.Linear(hidden_size, output_size),  # second affine layer\n",
    "    nn.Sigmoid()                         # output activation function\n",
    ")\n",
    "\n",
    "# 3) Define device and move the model to it\n",
    "device = torch.device(\"cuda\" if torch.cuda.is_available() else \"cpu\")\n",
    "model.to(device)\n",
    "\n",
    "# 4) Define the loss function and optimizer\n",
    "criterion = nn.MSELoss()\n",
    "optimizer = torch.optim.Adam(model.parameters(), lr=0.001)\n",
    "\n",
    "# 5) Create DataLoader for training data\n",
    "train_dataset = torch.utils.data.TensorDataset(torch.tensor(X_train, dtype=torch.float32), torch.tensor(c_train, dtype=torch.float32))\n",
    "train_loader = torch.utils.data.DataLoader(train_dataset, batch_size=data_loader_batch_size, shuffle=True)"
   ]
  },
  {
   "cell_type": "code",
   "execution_count": 35,
   "id": "0191123e",
   "metadata": {},
   "outputs": [
    {
     "name": "stdout",
     "output_type": "stream",
     "text": [
      "Epoch 1, Loss: 0.1010, Regret: 0.0535\n",
      "Epoch 2, Loss: 0.1347, Regret: 0.0497\n",
      "Epoch 3, Loss: 0.0511, Regret: 0.0471\n",
      "Epoch 4, Loss: 0.1546, Regret: 0.0448\n",
      "Epoch 5, Loss: 0.0516, Regret: 0.0443\n"
     ]
    }
   ],
   "source": [
    "# Define loss and regret vectors\n",
    "losses = []\n",
    "regrets = []\n",
    "\n",
    "# Training loop\n",
    "for epoch in range(epochs):\n",
    "    for x_batch, y_batch in train_loader:\n",
    "        x_batch, y_batch = x_batch.to(device), y_batch.to(device)\n",
    "\n",
    "        # Forward pass\n",
    "        y_pred = model(x_batch)\n",
    "        loss   = criterion(y_pred, y_batch)\n",
    "\n",
    "        # Backprop + optimize\n",
    "        optimizer.zero_grad()\n",
    "        loss.backward()\n",
    "        optimizer.step()\n",
    "\n",
    "    losses.append(loss.item())\n",
    "    regrets.append(pyepo.metric.regret(model, opt_model, optnet_train_loader))\n",
    "    print(f\"Epoch {epoch+1}, Loss: {losses[-1]:.4f}, Regret: {regrets[-1]:.4f}\")\n"
   ]
  },
  {
   "cell_type": "markdown",
   "id": "d01e35e9",
   "metadata": {},
   "source": [
    "## Smart Predict-then-Optimize with OptNet"
   ]
  },
  {
   "cell_type": "code",
   "execution_count": null,
   "id": "54b8b174",
   "metadata": {},
   "outputs": [],
   "source": [
    "# Create data loaders for training and testing\n",
    "train_dataset = pyepo.data.dataset.optDataset(opt_model, X_train, c_train)\n",
    "test_dataset = pyepo.data.dataset.optDataset(opt_model, X_test, c_test)\n",
    "\n",
    "train_loader = torch.utils.data.DataLoader(train_dataset, batch_size=data_loader_batch_size, shuffle=True)\n",
    "test_loader = torch.utils.data.DataLoader(test_dataset, batch_size=data_loader_batch_size, shuffle=False)"
   ]
  },
  {
   "cell_type": "code",
   "execution_count": null,
   "id": "5b468ad3",
   "metadata": {},
   "outputs": [
    {
     "name": "stdout",
     "output_type": "stream",
     "text": [
      "Num of cores: 1\n"
     ]
    }
   ],
   "source": [
    "# Instantiate linear regression model\n",
    "# model = LinearRegression(num_feat=num_features, num_edges=graph.num_cost)\n",
    "\n",
    "# 1) Define your network dimensions\n",
    "input_size  =  num_features   # e.g. number of features in your cost‐vector\n",
    "hidden_size =  64   # number of neurons in the hidden layer\n",
    "output_size =  graph.num_cost   # e.g. # of target outputs, or number of classes\n",
    "\n",
    "# 2) Build the model with nn.Sequential\n",
    "model = nn.Sequential(\n",
    "    nn.Linear(input_size, hidden_size),  # first affine layer\n",
    "    nn.ReLU(),                           # non‐linearity\n",
    "    nn.Linear(hidden_size, output_size)  # second affine layer\n",
    ")\n",
    "\n",
    "# Init SPO+ loss\n",
    "spop = pyepo.func.SPOPlus(opt_model, processes=1)\n",
    "\n",
    "# Init optimizer\n",
    "optimizer = torch.optim.Adam(model.parameters(), lr=.1)"
   ]
  },
  {
   "cell_type": "code",
   "execution_count": 21,
   "id": "55654118",
   "metadata": {},
   "outputs": [
    {
     "name": "stdout",
     "output_type": "stream",
     "text": [
      "Epoch 00 | Train Loss: 4.9678 | Train Regret: 0.0436 | Test Loss: 2.7643 | Test Regret: 0.0470\n",
      "Epoch 01 | Train Loss: 2.3992 | Train Regret: 0.0349 | Test Loss: 2.3677 | Test Regret: 0.0432\n",
      "Epoch 02 | Train Loss: 2.1322 | Train Regret: 0.0361 | Test Loss: 2.2780 | Test Regret: 0.0374\n",
      "Epoch 03 | Train Loss: 1.8818 | Train Regret: 0.0267 | Test Loss: 2.2053 | Test Regret: 0.0346\n",
      "Epoch 04 | Train Loss: 2.0106 | Train Regret: 0.0361 | Test Loss: 2.1027 | Test Regret: 0.0475\n"
     ]
    },
    {
     "data": {
      "image/png": "[encoded data removed]",
      "text/plain": [
       "<Figure size 1600x400 with 2 Axes>"
      ]
     },
     "metadata": {},
     "output_type": "display_data"
    },
    {
     "name": "stdout",
     "output_type": "stream",
     "text": [
      "Final regret on test set:  0.04753342651479679\n"
     ]
    }
   ],
   "source": [
    "# Create a trainer instance\n",
    "trainer = Trainer(pred_model=model, \n",
    "                  opt_model=opt_model, \n",
    "                  optimizer=optimizer, \n",
    "                  loss_fn=spop\n",
    "                )\n",
    "\n",
    "train_loss_log, train_regret_log, test_loss_log, test_regret_log = trainer.fit(train_loader, test_loader, epochs=epochs)\n",
    "\n",
    "# Plot the learning curve\n",
    "Trainer.vis_learning_curve(\n",
    "    trainer,\n",
    "    train_loss_log,\n",
    "    train_regret_log,\n",
    "    test_loss_log,\n",
    "    test_regret_log\n",
    ")\n",
    "\n",
    "print(\"Final regret on test set: \", test_regret_log[-1])"
   ]
  },
  {
   "cell_type": "code",
   "execution_count": null,
   "id": "dad182f5",
   "metadata": {},
   "outputs": [],
   "source": []
  }
 ],
 "metadata": {
  "kernelspec": {
   "display_name": ".venv",
   "language": "python",
   "name": "python3"
  },
  "language_info": {
   "codemirror_mode": {
    "name": "ipython",
    "version": 3
   },
   "file_extension": ".py",
   "mimetype": "text/x-python",
   "name": "python",
   "nbconvert_exporter": "python",
   "pygments_lexer": "ipython3",
   "version": "3.12.3"
  }
 },
 "nbformat": 4,
 "nbformat_minor": 5
}
