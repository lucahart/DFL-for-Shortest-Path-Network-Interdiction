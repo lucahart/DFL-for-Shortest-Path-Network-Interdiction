{
 "cells": [
  {
   "cell_type": "markdown",
   "id": "0",
   "metadata": {},
   "source": []
  },
  {
   "cell_type": "code",
   "execution_count": null,
   "id": "1",
   "metadata": {},
   "outputs": [],
   "source": [
    "# Add the parent directory to the path\n",
    "import sys, os\n",
    "sys.path.insert(0, os.path.abspath(\"../..\"))"
   ]
  },
  {
   "cell_type": "code",
   "execution_count": null,
   "id": "2",
   "metadata": {},
   "outputs": [],
   "source": [
    "# Import necessary libraries\n",
    "import numpy as np\n",
    "import matplotlib.pyplot as plt\n",
    "\n",
    "import torch\n",
    "import random\n",
    "import torch.nn as nn\n",
    "import pyepo\n",
    "\n",
    "from src.data.config import HP\n",
    "from sklearn.model_selection import train_test_split\n",
    "from src.models.LinearRegression import LinearRegression\n",
    "\n",
    "from src.solvers.spnia_asym import AsymmetricSPNI\n",
    "from src.models.ShortestPathGrb import shortestPathGrb\n",
    "from src.models.ShortestPathGrid import ShortestPathGrid\n",
    "from src.solvers.BendersDecomposition import BendersDecomposition\n",
    "from data.DataGenerator import DataGenerator\n",
    "from models.SPOTrainer import SPOTrainer\n",
    "from models.POTrainer import POTrainer\n",
    "\n",
    "from scripts.compare_po_spo import compare_po_spo"
   ]
  },
  {
   "cell_type": "code",
   "execution_count": null,
   "id": "3",
   "metadata": {},
   "outputs": [],
   "source": [
    "# Define hyperparameters\n",
    "c_min: float = 1.0\n",
    "c_max: float = 10.0\n",
    "d_min: float = 1.0\n",
    "d_max: float = 10.0\n",
    "Q = 0.6\n",
    "B = 5\n",
    "network = (6, 8)\n",
    "random_seed = 31\n",
    "\n",
    "# ML hyperparameters\n",
    "num_features = 5\n",
    "num_data_samples = 100\n",
    "test_size = 0.2\n",
    "data_loader_batch_size = 32\n",
    "epochs = 5\n",
    "\n",
    "# Set the random seed for reproducibility\n",
    "np.random.seed(random_seed)\n",
    "random.seed(random_seed)\n",
    "torch.manual_seed(random_seed)\n",
    "if torch.cuda.is_available():\n",
    "    torch.cuda.manual_seed_all(random_seed)\n"
   ]
  },
  {
   "cell_type": "code",
   "execution_count": null,
   "id": "4",
   "metadata": {},
   "outputs": [],
   "source": [
    "# Define a graph with appropriate dimensions and an opt_model \n",
    "# for solving the shortest path problem on the graph\n",
    "graph = ShortestPathGrid(network[0], network[1])\n",
    "opt_model = shortestPathGrb(graph)"
   ]
  },
  {
   "cell_type": "code",
   "execution_count": null,
   "id": "5",
   "metadata": {},
   "outputs": [],
   "source": [
    "# # Generate artificial data samples\n",
    "# data_gen = DataGenerator(\n",
    "#     num_costs=graph.num_cost,\n",
    "#     num_features=num_features,\n",
    "#     cost_feature_map=\"PolynomialKernel\",\n",
    "#     c_range=(c_min, c_max),\n",
    "#     epsilon_bar=0.05\n",
    "# )\n",
    "# costs, features = data_gen.generate_data(num_samples=num_data_samples)\n",
    "\n",
    "features, costs = pyepo.data.shortestpath.genData(\n",
    "    1000, \n",
    "    num_features, \n",
    "    (graph.m, graph.n), \n",
    "    deg=3, \n",
    "    noise_width=0.05, \n",
    "    seed=31\n",
    ")\n",
    "\n",
    "# Split the data into training and testing sets\n",
    "X_train, X_test, c_train, c_test = train_test_split(features, costs, test_size=test_size, random_state=random_seed)\n",
    "\n",
    "# Create data loaders for training and testing\n",
    "optnet_train_dataset = pyepo.data.dataset.optDataset(opt_model, X_train, c_train)\n",
    "optnet_test_dataset = pyepo.data.dataset.optDataset(opt_model, X_test, c_test)\n",
    "\n",
    "g = torch.Generator().manual_seed(random_seed)\n",
    "optnet_train_loader = torch.utils.data.DataLoader(optnet_train_dataset, batch_size=data_loader_batch_size, shuffle=True, generator=g)\n",
    "optnet_test_loader = torch.utils.data.DataLoader(optnet_test_dataset, batch_size=data_loader_batch_size, shuffle=False, generator=g)\n"
   ]
  },
  {
   "cell_type": "markdown",
   "id": "6",
   "metadata": {},
   "source": [
    "## Predict-then-Optimize"
   ]
  },
  {
   "cell_type": "code",
   "execution_count": null,
   "id": "7",
   "metadata": {},
   "outputs": [],
   "source": [
    "# Define your network dimensions\n",
    "input_size  =  num_features   # e.g. number of features in your cost‐vector\n",
    "hidden_size =  64   # number of neurons in the hidden layer\n",
    "output_size =  graph.num_cost   # e.g. # of target outputs, or number of classes\n",
    "\n",
    "# Build the model with nn.Sequential\n",
    "po_model = nn.Sequential(\n",
    "    nn.Linear(input_size, hidden_size),  # first affine layer\n",
    "    nn.ReLU(),                           # non‐linearity\n",
    "    nn.Linear(hidden_size, output_size),  # second affine layer\n",
    "    nn.Sigmoid()                         # output activation function\n",
    ")\n",
    "\n",
    "# Define the loss function and optimizer\n",
    "po_criterion = nn.MSELoss()\n",
    "optimizer = torch.optim.Adam(po_model.parameters(), lr=0.1)"
   ]
  },
  {
   "cell_type": "code",
   "execution_count": null,
   "id": "8",
   "metadata": {},
   "outputs": [],
   "source": [
    "po_trainer = POTrainer(\n",
    "    pred_model=po_model,\n",
    "    opt_model=opt_model,\n",
    "    optimizer=optimizer,\n",
    "    loss_fn=po_criterion\n",
    ")\n",
    "\n",
    "train_loss_log, train_regret_log, test_loss_log, test_regret_log = po_trainer.fit(optnet_train_loader, optnet_test_loader, epochs=epochs)\n",
    "\n",
    "# Plot the learning curve\n",
    "POTrainer.vis_learning_curve(\n",
    "    po_trainer,\n",
    "    train_loss_log,\n",
    "    train_regret_log,\n",
    "    test_loss_log,\n",
    "    test_regret_log\n",
    ")\n",
    "\n",
    "print(\"Final regret on test set: \", test_regret_log[-1])"
   ]
  },
  {
   "cell_type": "markdown",
   "id": "9",
   "metadata": {},
   "source": [
    "## Smart Predict-then-Optimize with OptNet"
   ]
  },
  {
   "cell_type": "code",
   "execution_count": null,
   "id": "10",
   "metadata": {},
   "outputs": [],
   "source": [
    "# Define your network dimensions\n",
    "input_size  =  num_features   # e.g. number of features in your cost‐vector\n",
    "hidden_size =  64   # number of neurons in the hidden layer\n",
    "output_size =  graph.num_cost   # e.g. # of target outputs, or number of classes\n",
    "\n",
    "# Build the model with nn.Sequential\n",
    "spo_model = nn.Sequential(\n",
    "    nn.Linear(input_size, hidden_size),  # first affine layer\n",
    "    nn.ReLU(),                           # non‐linearity\n",
    "    nn.Linear(hidden_size, output_size),  # second affine layer\n",
    "    nn.Sigmoid()                         # output activation function\n",
    ")\n",
    "\n",
    "# Init SPO+ loss\n",
    "spop = pyepo.func.SPOPlus(opt_model, processes=1)\n",
    "\n",
    "# Init optimizer\n",
    "optimizer = torch.optim.Adam(spo_model.parameters(), lr=.1)"
   ]
  },
  {
   "cell_type": "code",
   "execution_count": null,
   "id": "11",
   "metadata": {},
   "outputs": [],
   "source": [
    "# Create a trainer instance\n",
    "spo_trainer = SPOTrainer(pred_model=spo_model, \n",
    "                  opt_model=opt_model, \n",
    "                  optimizer=optimizer, \n",
    "                  loss_fn=spop\n",
    "                )\n",
    "\n",
    "train_loss_log, train_regret_log, test_loss_log, test_regret_log = spo_trainer.fit(optnet_train_loader, optnet_test_loader, epochs=epochs)\n",
    "\n",
    "# Plot the learning curve\n",
    "SPOTrainer.vis_learning_curve(\n",
    "    spo_trainer,\n",
    "    train_loss_log,\n",
    "    train_regret_log,\n",
    "    test_loss_log,\n",
    "    test_regret_log\n",
    ")\n",
    "\n",
    "print(\"Final regret on test set: \", test_regret_log[-1])"
   ]
  },
  {
   "cell_type": "markdown",
   "id": "12",
   "metadata": {},
   "source": [
    "## Compare both in application"
   ]
  },
  {
   "cell_type": "code",
   "execution_count": null,
   "id": "13",
   "metadata": {},
   "outputs": [],
   "source": [
    "# Set the configuration parameters\n",
    "test_data_samples = 10 # number of training data\n",
    "deg=3\n",
    "noise_width=0.05\n",
    "seed=31"
   ]
  },
  {
   "cell_type": "code",
   "execution_count": null,
   "id": "14",
   "metadata": {},
   "outputs": [],
   "source": [
    "# Initialize the configuration class\n",
    "cfg = HP()\n",
    "\n",
    "# # Change configuration parameters (optional)\n",
    "# cfg.set(\"test_data_samples\", test_data_samples)\n",
    "# cfg.set(\"deg\", deg)\n",
    "# cfg.set(\"noise_width\", noise_width)\n",
    "# cfg.set(\"seed\", seed)\n",
    "# cfg.set(\"num_features\", num_features)\n",
    "# cfg.set(\"grid_size\", (graph.m, graph.n))\n",
    "# cfg.set(\"random_seed\", random_seed)\n",
    "\n",
    "# cfg.set(\"num_data_samples\", num_data_samples)\n",
    "# cfg.set(\"test_size\", test_size)\n",
    "# cfg.set(\"data_loader_batch_size\", data_loader_batch_size)"
   ]
  },
  {
   "cell_type": "code",
   "execution_count": null,
   "id": "15",
   "metadata": {},
   "outputs": [],
   "source": [
    "true_objs, po_objs, spo_objs = compare_po_spo(cfg, opt_model, po_model, spo_model)"
   ]
  },
  {
   "cell_type": "code",
   "execution_count": null,
   "id": "16",
   "metadata": {},
   "outputs": [],
   "source": [
    "po_val = [(po - true) / true for po, true in zip(po_objs, true_objs)]\n",
    "spo_val = [(spo - true) / true for spo, true in zip(spo_objs, true_objs)]\n",
    "\n",
    "plt.scatter(np.ones_like(po_objs), po_val)\n",
    "plt.scatter(np.ones_like(spo_objs) + 1, spo_val)\n",
    "# plt.legend(['PO', 'SPO'], location='north')"
   ]
  },
  {
   "cell_type": "code",
   "execution_count": null,
   "id": "17",
   "metadata": {},
   "outputs": [],
   "source": []
  },
  {
   "cell_type": "code",
   "execution_count": null,
   "id": "18",
   "metadata": {},
   "outputs": [],
   "source": [
    "sjkhg"
   ]
  },
  {
   "cell_type": "code",
   "execution_count": null,
   "id": "19",
   "metadata": {},
   "outputs": [],
   "source": [
    "# Set parameters for data generation\n",
    "test_data_samples = 10 # number of training data\n",
    "cost_index = 1 # index of the cost vector to use\n",
    "\n",
    "# Generate data for shortest path problem\n",
    "features, costs = pyepo.data.shortestpath.genData(\n",
    "    test_data_samples, \n",
    "    num_features, \n",
    "    (graph.m, graph.n), \n",
    "    deg=3, \n",
    "    noise_width=0.05, \n",
    "    seed=31\n",
    ")\n",
    "\n",
    "# Choose a cost vector\n",
    "true_costs = costs[cost_index]\n",
    "features = features[cost_index]\n",
    "\n",
    "# Set the cost for the grid (Optionally specify the source and target nodes)\n",
    "opt_model.setObj(true_costs)\n",
    "\n",
    "# Solve shortest path problem\n",
    "path, obj = opt_model.solve(versatile=True, title=\"Shortest path on graph with chosen weights\")\n"
   ]
  },
  {
   "cell_type": "code",
   "execution_count": null,
   "id": "20",
   "metadata": {},
   "outputs": [],
   "source": [
    "# Predict shortest path with predict-then-optimize framework\n",
    "predicted_costs = po_model(torch.tensor(features, dtype=torch.float32)).detach().numpy()\n",
    "po_graph = ShortestPathGrid(network[0], network[1], cost=predicted_costs)\n",
    "po_shortest_path = shortestPathGrb(po_graph)\n",
    "po_path, po_obj = po_shortest_path.solve()"
   ]
  },
  {
   "cell_type": "code",
   "execution_count": null,
   "id": "21",
   "metadata": {},
   "outputs": [],
   "source": [
    "# Predict shortest path with smart predict-then-optimize framework\n",
    "predicted_costs = spo_model(torch.tensor(features, dtype=torch.float32)).detach().numpy()\n",
    "spo_graph = ShortestPathGrid(network[0], network[1], cost=predicted_costs)\n",
    "spo_shortest_path = shortestPathGrb(spo_graph)\n",
    "spo_path, spo_obj = spo_shortest_path.solve()"
   ]
  },
  {
   "cell_type": "code",
   "execution_count": null,
   "id": "22",
   "metadata": {},
   "outputs": [],
   "source": [
    "# Print results\n",
    "print(f\"Objective (Predict-then-Optimize shortest path): \\t{opt_model.evaluate(po_path)}\")\n",
    "print(f\"Objective (Smart Predict-then-Optimize shortest path): \\t{opt_model.evaluate(spo_path)}\")\n",
    "\n",
    "# Visualize results\n",
    "fig, ax = plt.subplots(1, 2, figsize=(16, 6))\n",
    "po_shortest_path.visualize(ax=ax[0], \n",
    "                     colored_edges=po_path,\n",
    "                     title=\"Predict-then-Optimize shortest path\")\n",
    "spo_shortest_path.visualize(ax=ax[1], \n",
    "                   colored_edges=spo_path,\n",
    "                   title=\"Smart Predict-then-Optimize shortest path\")\n",
    "fig.tight_layout()"
   ]
  },
  {
   "cell_type": "code",
   "execution_count": null,
   "id": "23",
   "metadata": {},
   "outputs": [],
   "source": [
    "# TODO: Add random seeds everywhere (also pytorch) to ensure reproducibility (Use Codex for this?)\n",
    "# TODO: Replace single-instance example above with a statistical argument\n",
    "# Idea: What about training a PO framework first and then tuning the parameters with SPO? \n",
    "#       -> Gives more accurate & easier to interpret results and can finetune for SPO afterwards.\n",
    "#       -> What about computing both gradients and changing their weights for learning gradually over time, \n",
    "#               e.g., 100% PO first, 50/50 in the middle, and 100% SPO at the end?"
   ]
  },
  {
   "cell_type": "code",
   "execution_count": null,
   "id": "24",
   "metadata": {},
   "outputs": [],
   "source": []
  }
 ],
 "metadata": {
  "kernelspec": {
   "display_name": ".venv",
   "language": "python",
   "name": "python3"
  },
  "language_info": {
   "codemirror_mode": {
    "name": "ipython",
    "version": 3
   },
   "file_extension": ".py",
   "mimetype": "text/x-python",
   "name": "python",
   "nbconvert_exporter": "python",
   "pygments_lexer": "ipython3",
   "version": "3.12.3"
  }
 },
 "nbformat": 4,
 "nbformat_minor": 5
}
