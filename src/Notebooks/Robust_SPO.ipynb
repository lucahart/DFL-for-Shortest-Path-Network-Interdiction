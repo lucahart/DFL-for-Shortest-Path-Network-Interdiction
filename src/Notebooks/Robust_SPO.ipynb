{
 "cells": [
  {
   "cell_type": "markdown",
   "id": "0",
   "metadata": {},
   "source": []
  },
  {
   "cell_type": "code",
   "execution_count": null,
   "id": "1",
   "metadata": {},
   "outputs": [],
   "source": [
    "# Add the parent directory to the path\n",
    "import sys, os\n",
    "sys.path.insert(0, os.path.abspath(\"../..\"))"
   ]
  },
  {
   "cell_type": "code",
   "execution_count": null,
   "id": "2",
   "metadata": {},
   "outputs": [],
   "source": [
    "# Import necessary libraries\n",
    "import numpy as np\n",
    "import matplotlib.pyplot as plt\n",
    "\n",
    "import torch\n",
    "import random\n",
    "from tabulate import tabulate\n",
    "\n",
    "from src.data.config import HP\n",
    "\n",
    "from src.solvers.spnia_asym import AsymmetricSPNI\n",
    "from src.models.ShortestPathGrb import shortestPathGrb\n",
    "from src.models.ShortestPathGrid import ShortestPathGrid\n",
    "from src.solvers.BendersDecomposition import BendersDecomposition\n",
    "\n",
    "from scripts.compare_po_spo import compare_po_spo\n",
    "from scripts.setup import gen_test_data, gen_train_data, setup_po_model, setup_spo_model"
   ]
  },
  {
   "cell_type": "code",
   "execution_count": null,
   "id": "3",
   "metadata": {},
   "outputs": [],
   "source": [
    "# Define hyperparameters\n",
    "c_min: float = 1.0\n",
    "c_max: float = 10.0\n",
    "d_min: float = 1.0\n",
    "d_max: float = 10.0\n",
    "Q = 0.6\n",
    "B = 5\n",
    "network = (6, 8)\n",
    "random_seed = 31\n",
    "\n",
    "# ML hyperparameters\n",
    "num_features = 5\n",
    "num_data_samples = 200\n",
    "test_size = 0.2\n",
    "data_loader_batch_size = 32\n",
    "po_epochs = 60\n",
    "spo_epochs = 20\n",
    "po_lr = .01\n",
    "spo_lr = .003\n",
    "sim_data_samples = 100 # number of training data\n",
    "deg = 5\n",
    "noise_width = 0.05\n",
    "\n",
    "# Interdictor parameters\n",
    "benders_max_count = 20\n",
    "benders_eps = 1e-3\n",
    "lsd = 1e-5\n",
    "\n",
    "# Set the normalization parameter as a function of the degree\n",
    "normalization_constant = {3:10, 5:20, 7:70}[deg]\n",
    "\n",
    "# Set the random seed for reproducibility\n",
    "np.random.seed(random_seed)\n",
    "random.seed(random_seed)\n",
    "torch.manual_seed(random_seed)\n",
    "if torch.cuda.is_available():\n",
    "    torch.cuda.manual_seed_all(random_seed)\n",
    "\n",
    "# Initialize the configuration class\n",
    "cfg = HP()\n",
    "\n",
    "# Change configuration parameters (optional)\n",
    "cfg.set(\"c_min\", c_min)\n",
    "cfg.set(\"c_max\", c_max)\n",
    "cfg.set(\"d_min\", d_min)\n",
    "cfg.set(\"d_max\", d_max)\n",
    "cfg.set(\"Q\", Q)\n",
    "cfg.set(\"budget\", B)\n",
    "cfg.set(\"grid_size\", network)\n",
    "cfg.set(\"random_seed\", random_seed)\n",
    "\n",
    "cfg.set(\"num_features\", num_features)\n",
    "cfg.set(\"num_data_samples\", num_data_samples)\n",
    "cfg.set(\"test_size\", test_size)\n",
    "cfg.set(\"data_loader_batch_size\", data_loader_batch_size)\n",
    "cfg.set(\"po_epochs\", po_epochs)\n",
    "cfg.set(\"spo_epochs\", spo_epochs)\n",
    "cfg.set(\"po_lr\", po_lr)\n",
    "cfg.set(\"spo_lr\", spo_lr)\n",
    "cfg.set(\"sim_data_samples\", sim_data_samples)\n",
    "cfg.set(\"deg\", deg)\n",
    "cfg.set(\"noise_width\", noise_width)\n",
    "cfg.set(\"normalization_constant\", normalization_constant)\n",
    "\n",
    "cfg.set(\"benders_max_count\", benders_max_count)\n",
    "cfg.set(\"benders_eps\", benders_eps)\n",
    "cfg.set(\"lsd\", lsd)\n"
   ]
  },
  {
   "cell_type": "code",
   "execution_count": null,
   "id": "4",
   "metadata": {},
   "outputs": [],
   "source": [
    "# Define a graph with appropriate dimensions and an opt_model \n",
    "# for solving the shortest path problem on the graph\n",
    "m,n = cfg.get(\"grid_size\")\n",
    "graph = ShortestPathGrid(m,n)\n",
    "opt_model = shortestPathGrb(graph)\n",
    "\n",
    "# Generate training data\n",
    "training_data = gen_train_data(cfg, opt_model)"
   ]
  },
  {
   "cell_type": "code",
   "execution_count": null,
   "id": "5",
   "metadata": {},
   "outputs": [],
   "source": [
    "po_model = setup_po_model(\n",
    "    cfg,\n",
    "    graph,\n",
    "    opt_model,\n",
    "    training_data,\n",
    "    versatile=True\n",
    ")"
   ]
  },
  {
   "cell_type": "code",
   "execution_count": null,
   "id": "6",
   "metadata": {},
   "outputs": [],
   "source": [
    "cfg.set(\"spo_lr\", 0.001)\n",
    "spo_model = setup_spo_model(\n",
    "    cfg,\n",
    "    graph,\n",
    "    opt_model,\n",
    "    training_data,\n",
    "    versatile=True,\n",
    "    transfer_model=po_model\n",
    ")"
   ]
  },
  {
   "cell_type": "code",
   "execution_count": null,
   "id": "7",
   "metadata": {},
   "outputs": [],
   "source": [
    "test_data = gen_test_data(cfg)\n",
    "true_objs, po_objs, spo_objs = compare_po_spo(cfg, opt_model, po_model, spo_model, test_data)"
   ]
  },
  {
   "cell_type": "code",
   "execution_count": null,
   "id": "8",
   "metadata": {},
   "outputs": [],
   "source": [
    "po_val = [(po - true) / true * 100 for po, true in zip(po_objs, true_objs)]\n",
    "spo_val = [(spo - true) / true * 100 for spo, true in zip(spo_objs, true_objs)]\n",
    "\n",
    "# plt.scatter(np.ones_like(po_objs), po_val)\n",
    "# plt.scatter(np.ones_like(spo_objs) + 1, spo_val)\n",
    "\n",
    "fig, ax = plt.subplots(figsize=(6,4))\n",
    "\n",
    "# Two groups: PO and SPO\n",
    "_ = ax.boxplot([po_val, spo_val], tick_labels=['PO', 'SPO'],\n",
    "           showmeans=True, meanline=True)   # optional styling\n",
    "ax.set_ylabel(\"Cost increase [%]\")\n",
    "# plt.legend(['PO', 'SPO'], location='north')\n",
    "\n",
    "po_mean  = np.mean(po_val)\n",
    "spo_mean = np.mean(spo_val)\n",
    "\n",
    "# std devs\n",
    "po_std_pop  = np.std(po_val, ddof=0)   # population σ\n",
    "po_std_samp = np.std(po_val, ddof=1)   # sample s (n-1)\n",
    "spo_std_pop  = np.std(spo_val, ddof=0)\n",
    "spo_std_samp = np.std(spo_val, ddof=1)\n",
    "mean_improvement = (po_mean - spo_mean) * 100 / po_mean\n",
    "std_improvement = (po_std_samp - spo_std_samp) * 100 / po_std_samp\n",
    "\n",
    "rows = [\n",
    "    [\"Mean\",         f\"{po_mean:.2f}%\",  f\"{spo_mean:.2f}%\", f\"{mean_improvement:.2f}%\"],\n",
    "    [\"Std (sample)\", f\"{po_std_samp:.2f}%\", f\"{spo_std_samp:.2f}%\", f\"{std_improvement:.2f}%\"],\n",
    "]\n",
    "print(tabulate(rows, headers=[\"Metric\", \"PO (%)\", \"SPO (%)\", \"SPO improvement (%)\"], tablefmt=\"github\"))"
   ]
  },
  {
   "cell_type": "code",
   "execution_count": null,
   "id": "9",
   "metadata": {},
   "outputs": [],
   "source": [
    "interdictions = gen_test_data(cfg)"
   ]
  },
  {
   "cell_type": "code",
   "execution_count": null,
   "id": "10",
   "metadata": {},
   "outputs": [],
   "source": [
    "def simulate_interdictor(cfg, test_data, interdictions, est_model = None, idx = None):\n",
    "    \"\"\"\n",
    "    Compare the performance of the PO and SPO models using symmetric shortest path interdiction.\n",
    "    This function simulates the interdiction process and evaluates the objective values.\n",
    "    \"\"\"\n",
    "\n",
    "    # Get the number of simulation data samples\n",
    "    sim_data_samples = cfg.get(\"sim_data_samples\")\n",
    "    normalization_constant = cfg.get(\"normalization_constant\")\n",
    "\n",
    "    # Prepare lists to store results\n",
    "    true_objs = []\n",
    "    est_objs = []\n",
    "\n",
    "    # Print that the simulation is starting\n",
    "    print(f\"Running simulation with {sim_data_samples} samples...\")\n",
    "\n",
    "    # Iterate through each data sample\n",
    "    for i in range(sim_data_samples) if idx is None else [idx]:\n",
    "        # Store values for the current sample\n",
    "        cost = test_data[\"costs\"][i] * normalization_constant\n",
    "        interdiction = interdictions[\"costs\"][i] * normalization_constant\n",
    "        m, n = cfg.get(\"grid_size\")\n",
    "\n",
    "        # Compute estimated cost if an estimator is provided. Otherwise use the true costs\n",
    "        if est_model is not None:\n",
    "            feature = test_data[\"features\"][i]\n",
    "            est_cost = est_model(torch.tensor(feature, dtype=torch.float32)).detach().numpy() * normalization_constant\n",
    "        else:\n",
    "            est_cost = cost\n",
    "\n",
    "        # Update opt_model\n",
    "        est_graph = ShortestPathGrid(m, n, cost=est_cost)\n",
    "        est_opt_model = shortestPathGrb(est_graph)\n",
    "\n",
    "        # Solutions without information asymmetry\n",
    "        interdictor_I = BendersDecomposition(est_opt_model, \n",
    "                                             k=cfg.get(\"budget\"), \n",
    "                                             interdiction_cost=interdiction, \n",
    "                                             max_cnt=cfg.get(\"benders_max_count\"), \n",
    "                                             eps=cfg.get(\"benders_eps\"))\n",
    "        x_intd, y_est, _ = interdictor_I.solve(versatile=False if idx is None else True)\n",
    "\n",
    "        # Create true model\n",
    "        true_graph = ShortestPathGrid(m, n, cost=cost)\n",
    "        true_opt_model = shortestPathGrb(true_graph)\n",
    "\n",
    "        # True shortest path after interdiction\n",
    "        true_opt_model.setObj(cost + x_intd * interdiction)\n",
    "        y_true, _ = true_opt_model.solve()\n",
    "\n",
    "        # Store the results\n",
    "        true_objs.append(true_graph(y_true, interdictions=x_intd * interdiction))\n",
    "        est_objs.append(true_graph(y_est, interdictions=x_intd * interdiction))\n",
    "\n",
    "        # Print progress\n",
    "        step = max(1, sim_data_samples // 20)  # ~every 5% (safe for small N)\n",
    "        if (i % step == 0) or (i == sim_data_samples - 1):\n",
    "            if i == sim_data_samples - 1:\n",
    "                done, pct = 20, 100                      # final tick\n",
    "            else:\n",
    "                done = (i * 20) // sim_data_samples      # 0..20 “=”\n",
    "                pct  = done * 5                          # 0,5,10,...,95\n",
    "\n",
    "            sys.stdout.write('\\r[%-20s] %3d%%' % ('=' * done, pct))\n",
    "            sys.stdout.flush()\n",
    "            if i == sim_data_samples - 1:\n",
    "                sys.stdout.write('\\n')\n",
    "\n",
    "\n",
    "    # Evaluate performance\n",
    "    return {\n",
    "        \"true_objective\": np.array(true_objs),\n",
    "        \"est_objective\": np.array(est_objs),\n",
    "    }"
   ]
  },
  {
   "cell_type": "markdown",
   "id": "11",
   "metadata": {},
   "source": [
    "# Debugging Bender's Decomposition!"
   ]
  },
  {
   "cell_type": "code",
   "execution_count": null,
   "id": "12",
   "metadata": {},
   "outputs": [],
   "source": [
    "cost = test_data[\"costs\"][60] * normalization_constant\n",
    "interdiction = interdictions[\"costs\"][60] * normalization_constant\n",
    "m, n = cfg.get(\"grid_size\")\n",
    "est_cost = cost\n",
    "\n",
    "# Update opt_model\n",
    "est_graph = ShortestPathGrid(m, n, cost=est_cost)\n",
    "est_opt_model = shortestPathGrb(est_graph)\n",
    "est_opt_model.visualize()\n",
    "\n",
    "print(cost)"
   ]
  },
  {
   "cell_type": "code",
   "execution_count": null,
   "id": "13",
   "metadata": {},
   "outputs": [],
   "source": [
    "# Solutions without information asymmetry\n",
    "# cfg.set(\"benders_max_count\", 24)\n",
    "interdictor_I = BendersDecomposition(est_opt_model, \n",
    "                                        k=cfg.get(\"budget\"), \n",
    "                                        interdiction_cost=interdiction, \n",
    "                                        max_cnt=cfg.get(\"benders_max_count\"), \n",
    "                                        eps=cfg.get(\"benders_eps\"))\n",
    "x_intd, y_est, _ = interdictor_I.solve(versatile=True, visualize=True)"
   ]
  },
  {
   "cell_type": "code",
   "execution_count": null,
   "id": "14",
   "metadata": {},
   "outputs": [],
   "source": [
    "true_graph = ShortestPathGrid(m, n, cost=cost+x_intd * interdiction)\n",
    "true_opt_model = shortestPathGrb(true_graph)\n",
    "y_true, obj = true_opt_model.solve(visualize=True)"
   ]
  },
  {
   "cell_type": "code",
   "execution_count": null,
   "id": "15",
   "metadata": {},
   "outputs": [],
   "source": [
    "cfg.set(\"benders_max_count\", 20)"
   ]
  },
  {
   "cell_type": "code",
   "execution_count": null,
   "id": "16",
   "metadata": {},
   "outputs": [],
   "source": [
    "idx = 0"
   ]
  },
  {
   "cell_type": "code",
   "execution_count": null,
   "id": "17",
   "metadata": {},
   "outputs": [],
   "source": [
    "true_interdiction = simulate_interdictor(cfg, test_data, interdictions)"
   ]
  },
  {
   "cell_type": "code",
   "execution_count": null,
   "id": "18",
   "metadata": {},
   "outputs": [],
   "source": [
    "po_interdiction = simulate_interdictor(cfg, test_data, interdictions, est_model=po_model)"
   ]
  },
  {
   "cell_type": "code",
   "execution_count": null,
   "id": "19",
   "metadata": {},
   "outputs": [],
   "source": [
    "spo_interdiction = simulate_interdictor(cfg, test_data, interdictions, est_model=spo_model)"
   ]
  },
  {
   "cell_type": "code",
   "execution_count": null,
   "id": "20",
   "metadata": {},
   "outputs": [],
   "source": [
    "print(true_interdiction['true_objective'].mean())\n",
    "print(true_interdiction['est_objective'].mean())"
   ]
  },
  {
   "cell_type": "code",
   "execution_count": null,
   "id": "21",
   "metadata": {},
   "outputs": [],
   "source": [
    "print(po_interdiction['true_objective'].mean())\n",
    "print(po_interdiction['est_objective'].mean())"
   ]
  },
  {
   "cell_type": "code",
   "execution_count": null,
   "id": "22",
   "metadata": {},
   "outputs": [],
   "source": [
    "print(spo_interdiction['true_objective'].mean())\n",
    "print(spo_interdiction['est_objective'].mean())"
   ]
  },
  {
   "cell_type": "code",
   "execution_count": null,
   "id": "23",
   "metadata": {},
   "outputs": [],
   "source": [
    "print(true_interdiction['true_objective'][60])\n",
    "print(true_interdiction['est_objective'][60])\n",
    "print(po_interdiction['true_objective'][60])\n",
    "print(spo_interdiction['true_objective'][60])"
   ]
  },
  {
   "cell_type": "code",
   "execution_count": null,
   "id": "24",
   "metadata": {},
   "outputs": [],
   "source": [
    "idx = 0\n",
    "for po , true in zip(po_interdiction['true_objective'], true_interdiction['true_objective']):\n",
    "    if true < po:\n",
    "        print(idx)\n",
    "    idx += 1"
   ]
  },
  {
   "cell_type": "code",
   "execution_count": null,
   "id": "25",
   "metadata": {},
   "outputs": [],
   "source": [
    "po_vals = [(true - po) / true * 100 for po, true in zip(po_interdiction['true_objective'], true_interdiction['true_objective'])]\n",
    "spo_vals = [(true - spo) / true * 100 for spo, true in zip(spo_interdiction['true_objective'], true_interdiction['true_objective'])]\n",
    "\n",
    "po_mean  = np.mean(po_vals)\n",
    "spo_mean = np.mean(spo_vals)\n",
    "\n",
    "# # std devs\n",
    "# po_std_pop  = np.std(po_val, ddof=0)   # population σ\n",
    "# po_std_samp = np.std(po_val, ddof=1)   # sample s (n-1)\n",
    "# spo_std_pop  = np.std(spo_val, ddof=0)\n",
    "# spo_std_samp = np.std(spo_val, ddof=1)\n",
    "# mean_improvement = (po_mean - spo_mean) * 100 / po_mean\n",
    "# std_improvement = (po_std_samp - spo_std_samp) * 100 / po_std_samp\n",
    "\n",
    "# Create figure\n",
    "fig, ax = plt.subplots(figsize=(6,4))\n",
    "\n",
    "# Two groups: PO and SPO\n",
    "_ = ax.boxplot([po_vals, spo_vals], tick_labels=['PO', 'SPO'],\n",
    "           showmeans=True, meanline=True)   # optional styling\n",
    "ax.set_ylabel(\"Cost increase [%]\")\n",
    "ax.grid(True)"
   ]
  },
  {
   "cell_type": "markdown",
   "id": "26",
   "metadata": {},
   "source": [
    "Takeaway from above: If we post-process the trained cost predictor with SPO, we can achieve a better model and better interdiction (robust) performance!"
   ]
  },
  {
   "cell_type": "markdown",
   "id": "27",
   "metadata": {},
   "source": [
    "## Single Examples"
   ]
  },
  {
   "cell_type": "code",
   "execution_count": null,
   "id": "28",
   "metadata": {},
   "outputs": [],
   "source": [
    "idx = 60"
   ]
  },
  {
   "cell_type": "code",
   "execution_count": null,
   "id": "29",
   "metadata": {},
   "outputs": [],
   "source": [
    "# Store values for the current sample\n",
    "feature = test_data[\"features\"][idx]\n",
    "cost = test_data[\"costs\"][idx] * normalization_constant\n",
    "interdiction = interdictions[\"costs\"][idx] * normalization_constant\n",
    "m, n = cfg.get(\"grid_size\")\n",
    "\n",
    "# Compute estimated cost if an estimator is provided. Otherwise use the true costs\n",
    "po_cost = po_model(torch.tensor(feature, dtype=torch.float32)).detach().numpy() * normalization_constant\n",
    "spo_cost = spo_model(torch.tensor(feature, dtype=torch.float32)).detach().numpy() * normalization_constant\n",
    "\n",
    "# Update estimated opt_models\n",
    "po_graph = ShortestPathGrid(m, n, cost=po_cost)\n",
    "po_opt_model = shortestPathGrb(po_graph)\n",
    "\n",
    "spo_graph = ShortestPathGrid(m, n, cost=spo_cost)\n",
    "spo_opt_model = shortestPathGrb(spo_graph)\n",
    "\n",
    "# Create true model\n",
    "true_graph = ShortestPathGrid(m, n, cost=cost)\n",
    "true_opt_model = shortestPathGrb(true_graph)\n",
    "\n",
    "# Display estimated and true shortest paths and costs\n",
    "fig, ax = plt.subplots(1, 3, figsize=(18, 6))\n",
    "y_true, _ = true_opt_model.solve(visualize=True, ax=ax[0], title=\"True Shortest Path\")\n",
    "y_est, _ = po_opt_model.solve(visualize=True, ax=ax[1], title=\"PO Shortest Path\")\n",
    "y_spo, _ = spo_opt_model.solve(visualize=True, ax=ax[2], title=\"SPO Shortest Path\")\n",
    "fig.tight_layout()\n",
    "print(f\"True path cost: {true_graph(y_true):.3f}\")\n",
    "print(f\"PO path cost: {true_graph(y_est):.3f}\")\n",
    "print(f\"SPO path cost: {true_graph(y_spo):.3f}\")"
   ]
  },
  {
   "cell_type": "code",
   "execution_count": null,
   "id": "30",
   "metadata": {},
   "outputs": [],
   "source": [
    "# Solutions without information asymmetry\n",
    "true_interdictor = BendersDecomposition(true_opt_model, \n",
    "                                        k=cfg.get(\"budget\"), \n",
    "                                        interdiction_cost=interdiction, \n",
    "                                        max_cnt=cfg.get(\"benders_max_count\"), \n",
    "                                        eps=cfg.get(\"benders_eps\"))\n",
    "x_true, y_est_true, _ = true_interdictor.solve(versatile=False)\n",
    "\n",
    "po_interdictor = BendersDecomposition(po_opt_model, \n",
    "                                        k=cfg.get(\"budget\"), \n",
    "                                        interdiction_cost=interdiction, \n",
    "                                        max_cnt=cfg.get(\"benders_max_count\"), \n",
    "                                        eps=cfg.get(\"benders_eps\"))\n",
    "x_po, y_est_po, _ = po_interdictor.solve(versatile=False)\n",
    "\n",
    "spo_interdictor = BendersDecomposition(spo_opt_model, \n",
    "                                        k=cfg.get(\"budget\"), \n",
    "                                        interdiction_cost=interdiction, \n",
    "                                        max_cnt=cfg.get(\"benders_max_count\"), \n",
    "                                        eps=cfg.get(\"benders_eps\"))\n",
    "x_spo, y_est_spo, _ = spo_interdictor.solve(versatile=False)\n",
    "\n",
    "# True shortest paths after interdiction\n",
    "true_opt_model.setObj(cost + x_true * interdiction)\n",
    "y_true_true, _ = true_opt_model.solve()\n",
    "\n",
    "true_opt_model.setObj(cost + x_po * interdiction)\n",
    "y_true_po, _ = true_opt_model.solve()\n",
    "\n",
    "true_opt_model.setObj(cost + x_spo * interdiction)\n",
    "y_true_spo, _ = true_opt_model.solve()\n",
    "\n",
    "# Store the results\n",
    "# true_graph(y_true, interdictions=x_intd * interdiction)\n",
    "# true_graph(y_est, interdictions=x_intd * interdiction)"
   ]
  },
  {
   "cell_type": "code",
   "execution_count": null,
   "id": "31",
   "metadata": {},
   "outputs": [],
   "source": [
    "# Create figure for plotting\n",
    "fig, ax = plt.subplots(2, 3, figsize=(18, 12))\n",
    "\n",
    "# Estimated shortest paths after interdiction\n",
    "true_graph.visualize(ax=ax[0, 0], colored_edges = y_est_true, dashed_edges=x_true, title=\"True Intd - Estimated Path\")\n",
    "\n",
    "po_graph.visualize(ax=ax[0, 1], colored_edges = y_est_po, dashed_edges=x_po, title=\"PO Intd - Estimated Path\")\n",
    "\n",
    "spo_graph.visualize(ax=ax[0, 2], colored_edges = y_est_spo, dashed_edges=x_spo, title=\"SPO Intd - Estimated Path\")\n",
    "\n",
    "# True shortest paths after interdiction\n",
    "true_graph.visualize(ax=ax[1, 0], colored_edges = y_true_true, dashed_edges=x_true, title=\"True Intd - True Path\")\n",
    "\n",
    "po_graph.visualize(ax=ax[1, 1], colored_edges = y_true_po, dashed_edges=x_po, title=\"PO Intd - True Path\")\n",
    "\n",
    "spo_graph.visualize(ax=ax[1, 2], colored_edges = y_true_spo, dashed_edges=x_spo, title=\"SPO Intd - True Path\")\n",
    "\n",
    "fig.tight_layout()\n",
    "\n",
    "# Print results\n",
    "print(f\"{true_graph(y_est_true, interdictions=x_true * interdiction)} | {true_graph(y_est_po, interdictions=x_po * interdiction)} | {true_graph(y_est_spo, interdictions=x_spo * interdiction)}\")\n",
    "print(f\"{true_graph(y_true_true, interdictions=x_true * interdiction)} | {true_graph(y_true_po, interdictions=x_po * interdiction)} | {true_graph(y_true_spo, interdictions=x_spo * interdiction)}\")"
   ]
  },
  {
   "cell_type": "code",
   "execution_count": null,
   "id": "32",
   "metadata": {},
   "outputs": [],
   "source": [
    "# Estimated shortest paths after interdiction\n",
    "true_graph.visualize(colored_edges = y_est_true, dashed_edges=x_true, title=\"True Intd - Estimated Path\")"
   ]
  },
  {
   "cell_type": "code",
   "execution_count": null,
   "id": "33",
   "metadata": {},
   "outputs": [],
   "source": []
  }
 ],
 "metadata": {
  "kernelspec": {
   "display_name": ".venv",
   "language": "python",
   "name": "python3"
  },
  "language_info": {
   "codemirror_mode": {
    "name": "ipython",
    "version": 3
   },
   "file_extension": ".py",
   "mimetype": "text/x-python",
   "name": "python",
   "nbconvert_exporter": "python",
   "pygments_lexer": "ipython3",
   "version": "3.12.3"
  }
 },
 "nbformat": 4,
 "nbformat_minor": 5
}
