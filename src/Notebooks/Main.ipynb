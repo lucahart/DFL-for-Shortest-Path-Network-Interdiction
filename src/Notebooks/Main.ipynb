{
 "cells": [
  {
   "cell_type": "code",
   "execution_count": null,
   "id": "0",
   "metadata": {},
   "outputs": [],
   "source": [
    "# Add the parent directory to the path\n",
    "import sys, os\n",
    "sys.path.insert(0, os.path.abspath(\"../..\"))\n",
    "\n",
    "# Import numpy and ShortestPathGrid class\n",
    "import numpy as np\n",
    "from src.models.ShortestPathGrid import ShortestPathGrid"
   ]
  },
  {
   "cell_type": "code",
   "execution_count": null,
   "id": "1",
   "metadata": {},
   "outputs": [],
   "source": [
    "# Generate data\n",
    "m, n = (5, 5)  # grid size\n",
    "# Create a random cost array for the grid\n",
    "cost = np.arange((m-1)*n + m*(n-1))\n",
    "np.random.shuffle(cost)\n",
    "# Initialize the ShortestPathGrid with the cost array\n",
    "grid = ShortestPathGrid(m, n, cost=cost)"
   ]
  },
  {
   "cell_type": "code",
   "execution_count": null,
   "id": "2",
   "metadata": {},
   "outputs": [],
   "source": [
    "# Visualize the grid and edge costs\n",
    "grid.visualize()"
   ]
  },
  {
   "cell_type": "code",
   "execution_count": null,
   "id": "3",
   "metadata": {},
   "outputs": [],
   "source": [
    "# Set source and target of optimization\n",
    "source = 1 # source node\n",
    "target = 23 # target node\n",
    "\n",
    "# Solve the shortest path problem\n",
    "sol, obj = grid.solve(source=source, target=target)"
   ]
  },
  {
   "cell_type": "code",
   "execution_count": null,
   "id": "4",
   "metadata": {},
   "outputs": [],
   "source": [
    "# Visualize the shortest path\n",
    "grid.visualize(source=source, target=target, color_edges=sol)\n",
    "print(\"Optimal objective:\", obj)"
   ]
  },
  {
   "cell_type": "code",
   "execution_count": null,
   "id": "5",
   "metadata": {},
   "outputs": [],
   "source": [
    "import pyepo\n",
    "\n",
    "# Set parameters for data generation\n",
    "num_train_data = 1000 # number of training data\n",
    "num_test_data = 1000 # number of test data\n",
    "num_feat = 5 # size of feature\n",
    "deg = 4 # polynomial degree\n",
    "e = 0.5 # noise width\n",
    "\n",
    "# Generate data for shortest path problem\n",
    "feats, costs = pyepo.data.shortestpath.genData(num_train_data+num_test_data, num_feat, (m,n), deg=deg, noise_width=e, seed=135)"
   ]
  },
  {
   "cell_type": "code",
   "execution_count": null,
   "id": "6",
   "metadata": {},
   "outputs": [],
   "source": [
    "# split train test data\n",
    "from sklearn.model_selection import train_test_split\n",
    "x_train, x_test, c_train, c_test = train_test_split(feats, costs, test_size=num_test_data, random_state=42)"
   ]
  },
  {
   "cell_type": "code",
   "execution_count": null,
   "id": "7",
   "metadata": {},
   "outputs": [],
   "source": [
    "from src.models.LinearRegression import LinearRegression\n",
    "\n",
    "# Instantiate linear regression model\n",
    "model = LinearRegression(num_feat=num_feat, num_edges=grid.num_edges())"
   ]
  },
  {
   "cell_type": "code",
   "execution_count": null,
   "id": "8",
   "metadata": {},
   "outputs": [],
   "source": [
    "import torch\n",
    "import torch.nn as nn\n",
    "import torch.optim as optim\n",
    "\n",
    "# Choose loss function and optimizer\n",
    "criterion = nn.MSELoss()\n",
    "optimizer = optim.SGD(model.parameters(), lr=0.1)"
   ]
  },
  {
   "cell_type": "code",
   "execution_count": null,
   "id": "9",
   "metadata": {},
   "outputs": [],
   "source": [
    "# Data loading\n",
    "train_data = torch.utils.data.TensorDataset(torch.from_numpy(x_train).float(), torch.from_numpy(c_train).float())\n",
    "train_loader = torch.utils.data.DataLoader(train_data, batch_size=128, shuffle=True)\n",
    "test_data = torch.utils.data.TensorDataset(torch.from_numpy(x_test).float(), torch.from_numpy(c_test).float())\n",
    "test_loader = torch.utils.data.DataLoader(test_data, batch_size=128, shuffle=True)"
   ]
  },
  {
   "cell_type": "code",
   "execution_count": null,
   "id": "10",
   "metadata": {},
   "outputs": [],
   "source": [
    "from src.models.trainer import Trainer\n",
    "\n",
    "# # 2) Build your two‐stage network:\n",
    "# #    e.g. lr = LinearRegression(...); opt = ShortestPath(...)\n",
    "# #    maybe wrap them in a single nn.Module\n",
    "# model = MyOptNetPipeline(linear_model=model, opt_model=opt)\n",
    "\n",
    "# Train linear regression model\n",
    "trainer = Trainer(model, optimizer, criterion)\n",
    "train_loss, test_loss = trainer.fit(train_loader, test_loader)\n"
   ]
  },
  {
   "cell_type": "code",
   "execution_count": null,
   "id": "11",
   "metadata": {},
   "outputs": [],
   "source": [
    "import matplotlib.pyplot as plt\n",
    "\n",
    "# Plot learning curve and optionally test loss\n",
    "plt.plot(train_loss, label='Training Loss')\n",
    "if test_loss:\n",
    "    plt.scatter(np.arange(len(test_loss))*trainer.n_epochs, test_loss, marker='x', color='red', label='Testing Loss')\n",
    "plt.xlabel('Epoch')\n",
    "plt.ylabel('Loss')\n",
    "plt.title('Learning Curve')\n",
    "plt.legend()\n",
    "plt.show()"
   ]
  },
  {
   "cell_type": "code",
   "execution_count": null,
   "id": "12",
   "metadata": {},
   "outputs": [],
   "source": [
    "# init black box solver\n",
    "spop = pyepo.func.SPOPlus(grid)"
   ]
  },
  {
   "cell_type": "code",
   "execution_count": null,
   "id": "13",
   "metadata": {},
   "outputs": [],
   "source": [
    "# Test for a single data batch\n",
    "x = object(); c = object(); cp = object(); w = object(); z = object()\n",
    "for x_batch, c_batch in train_loader:\n",
    "    x, c = x_batch, c_batch\n",
    "    cp = model(x)\n",
    "    w, z = grid.solve(source=source, target=target, cost=c)\n",
    "    break"
   ]
  },
  {
   "cell_type": "code",
   "execution_count": null,
   "id": "14",
   "metadata": {},
   "outputs": [],
   "source": [
    "spop(cp, c, w, z)"
   ]
  },
  {
   "cell_type": "code",
   "execution_count": null,
   "id": "15",
   "metadata": {},
   "outputs": [],
   "source": []
  }
 ],
 "metadata": {
  "kernelspec": {
   "display_name": ".venv",
   "language": "python",
   "name": "python3"
  },
  "language_info": {
   "codemirror_mode": {
    "name": "ipython",
    "version": 3
   },
   "file_extension": ".py",
   "mimetype": "text/x-python",
   "name": "python",
   "nbconvert_exporter": "python",
   "pygments_lexer": "ipython3",
   "version": "3.12.3"
  }
 },
 "nbformat": 4,
 "nbformat_minor": 5
}
